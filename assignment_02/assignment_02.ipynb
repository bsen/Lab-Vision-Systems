{
 "cells": [
  {
   "cell_type": "markdown",
   "metadata": {
    "id": "caXk3qS3aFAl"
   },
   "source": [
    "#### Standart imports, random seed and cuda settings"
   ]
  },
  {
   "cell_type": "code",
   "execution_count": 22,
   "metadata": {
    "executionInfo": {
     "elapsed": 6735,
     "status": "ok",
     "timestamp": 1621777899024,
     "user": {
      "displayName": "Astrid Liest",
      "photoUrl": "",
      "userId": "06845326156793219721"
     },
     "user_tz": -120
    },
    "id": "M2gh8MEDaFAo"
   },
   "outputs": [],
   "source": [
    "import torch\n",
    "import torch.nn as nn\n",
    "import torchvision.transforms as transforms\n",
    "import torchvision.datasets as dsets\n",
    "from torch.utils.data.sampler import SubsetRandomSampler\n",
    "import random as rand\n",
    "%matplotlib inline\n",
    "import matplotlib.pyplot as plt\n",
    "from tqdm import tqdm\n",
    "#import tqdm.notebook as tq\n",
    "import seaborn as sns\n",
    "import numpy as np\n",
    "from hyperopt import fmin, tpe, hp, Trials, STATUS_OK\n",
    "import os"
   ]
  },
  {
   "cell_type": "code",
   "execution_count": 63,
   "metadata": {
    "executionInfo": {
     "elapsed": 491,
     "status": "ok",
     "timestamp": 1621777926558,
     "user": {
      "displayName": "Astrid Liest",
      "photoUrl": "",
      "userId": "06845326156793219721"
     },
     "user_tz": -120
    },
    "id": "UJnJ40c80pht"
   },
   "outputs": [],
   "source": [
    "BASE_PATH='.' "
   ]
  },
  {
   "cell_type": "code",
   "execution_count": 25,
   "metadata": {
    "executionInfo": {
     "elapsed": 580,
     "status": "ok",
     "timestamp": 1621777927629,
     "user": {
      "displayName": "Astrid Liest",
      "photoUrl": "",
      "userId": "06845326156793219721"
     },
     "user_tz": -120
    },
    "id": "pjnBiAluaFAq"
   },
   "outputs": [],
   "source": [
    "# use a random seed\n",
    "import os\n",
    "import random\n",
    "def set_random_seed(random_seed=None):\n",
    "    \"\"\"\n",
    "    Using random seed for numpy and torch\n",
    "    \"\"\"\n",
    "    if(random_seed is None):\n",
    "        random_seed = 13\n",
    "    os.environ['PYTHONHASHSEED'] = str(random_seed)\n",
    "    random.seed(random_seed)\n",
    "    np.random.seed(random_seed)\n",
    "    torch.manual_seed(random_seed)\n",
    "    torch.cuda.manual_seed_all(random_seed)\n",
    "    return\n",
    "set_random_seed(20)"
   ]
  },
  {
   "cell_type": "code",
   "execution_count": 26,
   "metadata": {
    "executionInfo": {
     "elapsed": 576,
     "status": "ok",
     "timestamp": 1621777930415,
     "user": {
      "displayName": "Astrid Liest",
      "photoUrl": "",
      "userId": "06845326156793219721"
     },
     "user_tz": -120
    },
    "id": "whF3kgPTaFAr"
   },
   "outputs": [],
   "source": [
    "# set the computing device accordingly\n",
    "device = torch.device(\"cuda\" if torch.cuda.is_available() else \"cpu\")"
   ]
  },
  {
   "cell_type": "markdown",
   "metadata": {
    "id": "XJSm3MOqaFAs"
   },
   "source": [
    "#### Method for saving models"
   ]
  },
  {
   "cell_type": "code",
   "execution_count": 28,
   "metadata": {
    "executionInfo": {
     "elapsed": 11,
     "status": "ok",
     "timestamp": 1621777935023,
     "user": {
      "displayName": "Astrid Liest",
      "photoUrl": "",
      "userId": "06845326156793219721"
     },
     "user_tz": -120
    },
    "id": "F0fy9R1KaFAs"
   },
   "outputs": [],
   "source": [
    "# for saving complete models\n",
    "def save_model(n_epochs, lr, batch_size, model, loss_hist, eval_hist, hidden_dim1, hidden_dim2, grad_hist):\n",
    "    savepath = f\"{BASE_PATH}/models/model_ne{n_epochs}_lr{lr}_bs{batch_size}_hd2{hidden_dim2}.pth\"\n",
    "    \n",
    "    torch.save({\n",
    "        'n_epochs': n_epochs,\n",
    "        'lr': lr,\n",
    "        'batch_size': batch_size,\n",
    "        'model_state_dict': model.state_dict(),\n",
    "        'loss_hist': loss_hist,\n",
    "        'eval_hist': eval_hist,\n",
    "        'hidden_dim1': hidden_dim1,\n",
    "        'hidden_dim2': hidden_dim2,\n",
    "        'grad_hist': grad_hist\n",
    "    }, savepath)"
   ]
  },
  {
   "cell_type": "markdown",
   "metadata": {
    "id": "Q_TIg-ANaFAt"
   },
   "source": [
    "#### Loading data"
   ]
  },
  {
   "cell_type": "code",
   "execution_count": 64,
   "metadata": {
    "colab": {
     "base_uri": "https://localhost:8080/",
     "height": 118,
     "referenced_widgets": [
      "f42d698c3fca442d99f0d6d54c9255a1",
      "2ead369644c84c89a39b69df2bb09745",
      "74027953640945afa6df0d8b8148dd80",
      "40c79e7cd83a4828bd1e2f8fa47b959e",
      "734201c3034f4df68b1d67e82e9a2741",
      "4739062422164f69b0f6a57b9bbe0210",
      "ea3f391b9b634821942b73bf2e7af252",
      "8a957889d4974ed7a1a5614c400606a6"
     ]
    },
    "executionInfo": {
     "elapsed": 12169,
     "status": "ok",
     "timestamp": 1621777951339,
     "user": {
      "displayName": "Astrid Liest",
      "photoUrl": "",
      "userId": "06845326156793219721"
     },
     "user_tz": -120
    },
    "id": "peGoKFkNaFAt",
    "outputId": "a212a67b-ffea-485c-9d9b-214fb6e092b8"
   },
   "outputs": [
    {
     "name": "stdout",
     "output_type": "stream",
     "text": [
      "Files already downloaded and verified\n",
      "Files already downloaded and verified\n"
     ]
    }
   ],
   "source": [
    "# load the data\n",
    "trainvalset = dsets.CIFAR10('data', train=True, download=True, transform=transforms.ToTensor())\n",
    "testset = dsets.CIFAR10('data', train=False, download=True, transform=transforms.ToTensor())\n",
    "\n",
    "indices = list(range(len(trainvalset)))\n",
    "np.random.shuffle(indices)\n",
    "train_indices = indices[:40000]\n",
    "val_indices = indices[40000:]\n",
    "train_sampler = SubsetRandomSampler(train_indices)\n",
    "val_sampler = SubsetRandomSampler(val_indices)\n",
    "\n",
    "def get_train_loader(batch_size):\n",
    "    train_loader = torch.utils.data.DataLoader(trainvalset, batch_size=batch_size, sampler=train_sampler, shuffle=False)\n",
    "    return train_loader\n",
    "\n",
    "def get_val_loader(batch_size):\n",
    "    val_loader = torch.utils.data.DataLoader(trainvalset, batch_size=batch_size, sampler=val_sampler, shuffle=False)\n",
    "    return val_loader\n",
    "\n",
    "def get_test_loader(batch_size):\n",
    "    return torch.utils.data.DataLoader(dataset=testset, \n",
    "                                          batch_size=batch_size, \n",
    "                                          shuffle=False)"
   ]
  },
  {
   "cell_type": "markdown",
   "metadata": {
    "id": "JlIurexeaFAv"
   },
   "source": [
    "## Model and training"
   ]
  },
  {
   "cell_type": "code",
   "execution_count": 30,
   "metadata": {
    "executionInfo": {
     "elapsed": 27,
     "status": "ok",
     "timestamp": 1621777951342,
     "user": {
      "displayName": "Astrid Liest",
      "photoUrl": "",
      "userId": "06845326156793219721"
     },
     "user_tz": -120
    },
    "id": "kZG5bP5raFAx"
   },
   "outputs": [],
   "source": [
    "# define the model\n",
    "class LogisticRegressionModel(nn.Module):\n",
    "    def __init__(self, input_dim=3072, hidden_dim1=128, hidden_dim2=48, output_dim=10):\n",
    "        super().__init__()\n",
    "        self.input_dim = input_dim\n",
    "        self.last_layer = nn.Linear(hidden_dim2, output_dim)\n",
    "        self.layer = nn.Sequential(\n",
    "            nn.Linear(input_dim, hidden_dim1),\n",
    "            nn.ReLU(),\n",
    "            nn.Linear(hidden_dim1, hidden_dim2),\n",
    "            nn.ReLU(),\n",
    "            self.last_layer\n",
    "        )        \n",
    "    \n",
    "    def forward(self, x):\n",
    "        x_flat = x.view(-1, self.input_dim)\n",
    "        out = self.layer(x_flat)\n",
    "        return out"
   ]
  },
  {
   "cell_type": "code",
   "execution_count": 31,
   "metadata": {
    "executionInfo": {
     "elapsed": 25,
     "status": "ok",
     "timestamp": 1621777951345,
     "user": {
      "displayName": "Astrid Liest",
      "photoUrl": "",
      "userId": "06845326156793219721"
     },
     "user_tz": -120
    },
    "id": "m__5JAkxaFAz"
   },
   "outputs": [],
   "source": [
    "# training\n",
    "def train(n_epochs=15, lr=1e-2, learning_curve=True, batch_size=20, prog_bar=True, hidden_dim1=128, hidden_dim2=48):\n",
    "    n_epochs = int(n_epochs)\n",
    "    batch_size = int(batch_size)\n",
    "    train_loader, val_loader = get_train_loader(batch_size), get_val_loader(batch_size)\n",
    "    \n",
    "    model = LogisticRegressionModel(hidden_dim1=int(hidden_dim1), hidden_dim2=int(hidden_dim2))\n",
    "    model = model.to(device)\n",
    "\n",
    "    criterion = nn.CrossEntropyLoss().to(device)\n",
    "    optimizer = torch.optim.SGD(params=model.parameters(), lr=lr)\n",
    "    \n",
    "    loss_hist = []\n",
    "    eval_hist = []\n",
    "    grad_hist = [] # the norms of the gradient of the last layers parameters\n",
    "    \n",
    "    if not prog_bar:\n",
    "        print('epoch: ', end='')\n",
    "    \n",
    "    for epoch in range(n_epochs):\n",
    "        grad_list = []\n",
    "        if prog_bar:\n",
    "            batches = tqdm(enumerate(train_loader), total=len(train_loader), position=0, leave=True)\n",
    "        else:\n",
    "            output = str(epoch+1) + ', '\n",
    "            print(output, end='')\n",
    "            batches = enumerate(train_loader)\n",
    "            \n",
    "        for i, (imgs, labels) in batches:\n",
    "            # move imgs and labels to the device we use\n",
    "            imgs = imgs.to(device)\n",
    "            x = imgs\n",
    "            labels = labels.to(device)\n",
    "\n",
    "            # forward pass\n",
    "            pred_labels = model(imgs)\n",
    "\n",
    "            # computing loss\n",
    "            loss = criterion(pred_labels, labels)\n",
    "            \n",
    "            # removing accumulated gradients\n",
    "            optimizer.zero_grad()\n",
    "            loss.backward()\n",
    "            \n",
    "            if learning_curve:\n",
    "                # calcualte the norm of the gradient of the last layer\n",
    "                parameters = model.last_layer.parameters()\n",
    "                for p in list(filter(lambda p: p.grad is not None, parameters)):\n",
    "                    grad_list.append(p.grad.data.norm(2).item())\n",
    "            \n",
    "            optimizer.step()\n",
    "            if prog_bar and (i%1 == 0 or i == len(train_loader)-1):\n",
    "                batches.set_description(f\"Epoch {epoch+1} Iter {i+1}: loss {loss.item():.5f}. \")\n",
    "\n",
    "        # calcualte the loss for the learning curve\n",
    "        if learning_curve:\n",
    "            loss_hist.append(get_loss(model, train_loader, criterion, prog_bar))\n",
    "            eval_hist.append(get_loss(model, val_loader, criterion, prog_bar))\n",
    "            grad_hist.append(np.mean(grad_list))\n",
    "        # A quick note: we know that this is kinda redundant and not that good\n",
    "        # for performance to calculate the loss of the model on the training data\n",
    "        # by iterating over it once more.\n",
    "        # But if we use the losses we calculated in the training steps, those are obtained\n",
    "        # by different weights since the weights get updated every batch.\n",
    "        # So we decided to recalculate the loss here again in order to it being \n",
    "        # comparable to the loss we calculate on the valuation data.\n",
    "        # We would love to see what best practice here.\n",
    "            \n",
    "    save_model(n_epochs, lr, batch_size, model, loss_hist, eval_hist, hidden_dim1, hidden_dim2, grad_hist)\n",
    "    return model\n",
    "\n",
    "\n",
    "def get_loss(model, data_loader, criterion, prog_bar):\n",
    "    \"\"\"Returns the average loss of this model on the data of the data_loader given the criterion.\"\"\"\n",
    "    with torch.no_grad():\n",
    "        if prog_bar:\n",
    "            batches = tqdm(enumerate(data_loader), total=len(data_loader), position=0, leave=True)\n",
    "            batches.set_description('Compute loss')\n",
    "        else:\n",
    "            batches = enumerate(data_loader)\n",
    "        loss_list = []\n",
    "        for i, (imgs, labels) in batches: \n",
    "            imgs = imgs.to(device)\n",
    "            labels = labels.to(device)\n",
    "\n",
    "            pred_labels = model(imgs)\n",
    "            loss = criterion(pred_labels, labels)\n",
    "            loss_list.append(loss.item())\n",
    "\n",
    "        return np.mean(loss_list)\n"
   ]
  },
  {
   "cell_type": "code",
   "execution_count": 32,
   "metadata": {
    "executionInfo": {
     "elapsed": 23,
     "status": "ok",
     "timestamp": 1621777951347,
     "user": {
      "displayName": "Astrid Liest",
      "photoUrl": "",
      "userId": "06845326156793219721"
     },
     "user_tz": -120
    },
    "id": "sxRHtC2taFA1"
   },
   "outputs": [],
   "source": [
    "def accuracy(model, prog_bar=True, data_loader=get_test_loader(100)):\n",
    "    n_correct = 0\n",
    "\n",
    "    with torch.no_grad():\n",
    "        if prog_bar:\n",
    "            batches = tqdm(enumerate(data_loader), total=len(data_loader), position=0)\n",
    "        else:\n",
    "            batches = enumerate(data_loader)\n",
    "        for i, (imgs, labels) in batches: \n",
    "            #everything needs to be on the same device\n",
    "            imgs = imgs.to(device)\n",
    "            labels = labels.to(device)\n",
    "\n",
    "            # forward pass\n",
    "            pred_labels = model(imgs)\n",
    "\n",
    "            preds = torch.argmax(pred_labels, dim=-1)\n",
    "            cur_correct = len(torch.where(preds == labels)[0])\n",
    "            n_correct = n_correct + cur_correct\n",
    "    return n_correct / len(testset)"
   ]
  },
  {
   "cell_type": "markdown",
   "metadata": {
    "id": "EW3x8CQJaFA5"
   },
   "source": [
    "## Learning curve, gradient curve and evaluation"
   ]
  },
  {
   "cell_type": "code",
   "execution_count": 33,
   "metadata": {
    "executionInfo": {
     "elapsed": 473,
     "status": "ok",
     "timestamp": 1621777955871,
     "user": {
      "displayName": "Astrid Liest",
      "photoUrl": "",
      "userId": "06845326156793219721"
     },
     "user_tz": -120
    },
    "id": "HP5vFpVOSGoX"
   },
   "outputs": [],
   "source": [
    "def show_learning_curve(name):\n",
    "    path = f\"{BASE_PATH}/models/{name}\"\n",
    "    saved_model = torch.load(path,  map_location=\"cpu\")\n",
    "\n",
    "    lr = saved_model['lr']\n",
    "    batch_size = saved_model['batch_size']\n",
    "    n_epochs = saved_model['n_epochs']\n",
    "    loss_hist = saved_model['loss_hist']\n",
    "    eval_hist = saved_model['eval_hist']\n",
    "    print(f\"The model used learning rate {lr}, batch size {batch_size} and {n_epochs} epochs.\")\n",
    "    \n",
    "    try:\n",
    "        hidden_dim1 = saved_model['hidden_dim1']\n",
    "        hidden_dim2 = saved_model['hidden_dim2']\n",
    "        print(f\"The dimension of hidden layer 1 was {hidden_dim1}.\")\n",
    "        print(f\"The dimension of hidden layer 2 was {hidden_dim2}.\")\n",
    "    except KeyError:\n",
    "        pass\n",
    "    print(\"It achived the following results:\")\n",
    "\n",
    "    x = np.arange(1, len(loss_hist)+1)\n",
    "    fig, ax = plt.subplots()\n",
    "    plt.plot(x, eval_hist, label='val loss')\n",
    "    plt.plot(x, loss_hist, label='train loss')\n",
    "\n",
    "    plt.grid()\n",
    "    plt.xlabel(\"Epoch\")\n",
    "    plt.ylabel(\"Loss\")\n",
    "    plt.title(\"Learning Progress\")\n",
    "    ax.legend()\n",
    "    plt.show()  "
   ]
  },
  {
   "cell_type": "code",
   "execution_count": 34,
   "metadata": {
    "executionInfo": {
     "elapsed": 7,
     "status": "ok",
     "timestamp": 1621777957546,
     "user": {
      "displayName": "Astrid Liest",
      "photoUrl": "",
      "userId": "06845326156793219721"
     },
     "user_tz": -120
    },
    "id": "akSD-WTYzOJl"
   },
   "outputs": [],
   "source": [
    "def show_grad_curve(name):\n",
    "    path = f\"{BASE_PATH}/models/{name}\"\n",
    "    saved_model = torch.load(path,  map_location=\"cpu\")\n",
    "\n",
    "    lr = saved_model['lr']\n",
    "    batch_size = saved_model['batch_size']\n",
    "    n_epochs = saved_model['n_epochs']\n",
    "    grad_hist = saved_model['grad_hist']\n",
    "    print(f\"The model used learning rate {lr}, batch size {batch_size} and {n_epochs} epochs.\")\n",
    "    \n",
    "    try:\n",
    "        hidden_dim1 = saved_model['hidden_dim1']\n",
    "        hidden_dim2 = saved_model['hidden_dim2']\n",
    "        print(f\"The dimension of hidden layer 1 was {hidden_dim1}.\")\n",
    "        print(f\"The dimension of hidden layer 2 was {hidden_dim2}.\")\n",
    "    except KeyError:\n",
    "        pass\n",
    "    print(\"The norm of its gradients in the last layer has developed in the following way:\")\n",
    "\n",
    "    x = np.arange(1, len(grad_hist)+1)\n",
    "    fig, ax = plt.subplots()\n",
    "    plt.plot(x, grad_hist, label='gradient norm')\n",
    "\n",
    "    plt.grid()\n",
    "    plt.xlabel(\"Epoch\")\n",
    "    plt.ylabel(\"Gradient norm\")\n",
    "    plt.title(\"Gradient Norm\")\n",
    "    plt.show()  "
   ]
  },
  {
   "cell_type": "markdown",
   "metadata": {
    "id": "EsrOYKXraFA2"
   },
   "source": [
    "## hyperparameter optimization"
   ]
  },
  {
   "cell_type": "markdown",
   "metadata": {},
   "source": [
    "We now do some experiments to see which hyper parameters to use and later we also use a hyperparameter optimization library for some parameters."
   ]
  },
  {
   "cell_type": "code",
   "execution_count": null,
   "metadata": {
    "colab": {
     "base_uri": "https://localhost:8080/"
    },
    "executionInfo": {
     "elapsed": 251080,
     "status": "ok",
     "timestamp": 1621766596053,
     "user": {
      "displayName": "Astrid Liest",
      "photoUrl": "",
      "userId": "06845326156793219721"
     },
     "user_tz": -120
    },
    "id": "AgHlCcmhzOJn",
    "outputId": "9c0bd6fb-681d-426b-a4df-8d536a8d8200"
   },
   "outputs": [
    {
     "name": "stdout",
     "output_type": "stream",
     "text": [
      "epoch: 1, 2, 3, 4, 5, 6, 7, 8, 9, 10, 11, 12, 13, 14, 15, 16, 17, 18, 19, 20, "
     ]
    }
   ],
   "source": [
    "model_1 = train(n_epochs=20, lr=3e-3, learning_curve=True, batch_size=20, prog_bar=False, hidden_dim1=128, hidden_dim2=48)"
   ]
  },
  {
   "cell_type": "code",
   "execution_count": null,
   "metadata": {
    "colab": {
     "base_uri": "https://localhost:8080/",
     "height": 364
    },
    "executionInfo": {
     "elapsed": 330,
     "status": "ok",
     "timestamp": 1621766641253,
     "user": {
      "displayName": "Astrid Liest",
      "photoUrl": "",
      "userId": "06845326156793219721"
     },
     "user_tz": -120
    },
    "id": "DSriNaqNzOJn",
    "outputId": "4440ec5a-9ec8-4115-980b-85a7b8eb796a"
   },
   "outputs": [
    {
     "name": "stdout",
     "output_type": "stream",
     "text": [
      "The model used learning rate 0.003, batch size 20 and 20 epochs.\n",
      "The dimension of hidden layer 1 was 128.\n",
      "The dimension of hidden layer 2 was 48.\n",
      "It achived the following results:\n"
     ]
    },
    {
     "data": {
      "image/png": "[encoded data removed]",
      "text/plain": [
       "<Figure size 432x288 with 1 Axes>"
      ]
     },
     "metadata": {
      "needs_background": "light",
      "tags": []
     },
     "output_type": "display_data"
    }
   ],
   "source": [
    "show_learning_curve('first_runs/model_ne20_lr0.003_bs20.pth') # model_1"
   ]
  },
  {
   "cell_type": "code",
   "execution_count": null,
   "metadata": {
    "colab": {
     "base_uri": "https://localhost:8080/"
    },
    "executionInfo": {
     "elapsed": 2551,
     "status": "ok",
     "timestamp": 1621766724275,
     "user": {
      "displayName": "Astrid Liest",
      "photoUrl": "",
      "userId": "06845326156793219721"
     },
     "user_tz": -120
    },
    "id": "PZmqAI1p0_Pu",
    "outputId": "b962a84c-02ea-4f6a-f0c6-03389b73377e"
   },
   "outputs": [
    {
     "name": "stderr",
     "output_type": "stream",
     "text": [
      "100%|██████████| 100/100 [00:01<00:00, 98.40it/s]\n"
     ]
    },
    {
     "data": {
      "text/plain": [
       "0.4742"
      ]
     },
     "execution_count": 17,
     "metadata": {
      "tags": []
     },
     "output_type": "execute_result"
    }
   ],
   "source": [
    "accuracy(model_1, data_loader=get_val_loader(100))"
   ]
  },
  {
   "cell_type": "markdown",
   "metadata": {
    "id": "uq3nCeQC05qB"
   },
   "source": [
    "It looks as though we could use some more epochs."
   ]
  },
  {
   "cell_type": "code",
   "execution_count": null,
   "metadata": {
    "colab": {
     "base_uri": "https://localhost:8080/"
    },
    "executionInfo": {
     "elapsed": 439701,
     "status": "ok",
     "timestamp": 1621767216743,
     "user": {
      "displayName": "Astrid Liest",
      "photoUrl": "",
      "userId": "06845326156793219721"
     },
     "user_tz": -120
    },
    "id": "UKjeqsbnzOJn",
    "outputId": "6f38f1ab-3705-4960-d05f-5a6c03668122"
   },
   "outputs": [
    {
     "name": "stdout",
     "output_type": "stream",
     "text": [
      "epoch: 1, 2, 3, 4, 5, 6, 7, 8, 9, 10, 11, 12, 13, 14, 15, 16, 17, 18, 19, 20, 21, 22, 23, 24, 25, 26, 27, 28, 29, 30, 31, 32, 33, 34, 35, "
     ]
    }
   ],
   "source": [
    "set_random_seed(33)\n",
    "model_2 = train(n_epochs=35, lr=3e-3, learning_curve=True, batch_size=20, prog_bar=False, hidden_dim1=128, hidden_dim2=48)"
   ]
  },
  {
   "cell_type": "code",
   "execution_count": null,
   "metadata": {
    "colab": {
     "base_uri": "https://localhost:8080/",
     "height": 364
    },
    "executionInfo": {
     "elapsed": 291,
     "status": "ok",
     "timestamp": 1621767234055,
     "user": {
      "displayName": "Astrid Liest",
      "photoUrl": "",
      "userId": "06845326156793219721"
     },
     "user_tz": -120
    },
    "id": "RkDIqcxT29eN",
    "outputId": "a80056a4-196c-4b06-8144-aea61109ce30"
   },
   "outputs": [
    {
     "name": "stdout",
     "output_type": "stream",
     "text": [
      "The model used learning rate 0.003, batch size 20 and 35 epochs.\n",
      "The dimension of hidden layer 1 was 128.\n",
      "The dimension of hidden layer 2 was 48.\n",
      "It achived the following results:\n"
     ]
    },
    {
     "data": {
      "image/png": "[encoded data removed]",
      "text/plain": [
       "<Figure size 432x288 with 1 Axes>"
      ]
     },
     "metadata": {
      "needs_background": "light",
      "tags": []
     },
     "output_type": "display_data"
    }
   ],
   "source": [
    "show_learning_curve('first_runs/model_ne35_lr0.003_bs20.pth') # model_2"
   ]
  },
  {
   "cell_type": "code",
   "execution_count": null,
   "metadata": {
    "colab": {
     "base_uri": "https://localhost:8080/"
    },
    "executionInfo": {
     "elapsed": 1178,
     "status": "ok",
     "timestamp": 1621767311194,
     "user": {
      "displayName": "Astrid Liest",
      "photoUrl": "",
      "userId": "06845326156793219721"
     },
     "user_tz": -120
    },
    "id": "Y_Rq5oH53O-V",
    "outputId": "a37da36f-973c-46a6-965d-0a7f575fbdf6"
   },
   "outputs": [
    {
     "name": "stderr",
     "output_type": "stream",
     "text": [
      "100%|██████████| 100/100 [00:01<00:00, 95.77it/s]\n"
     ]
    },
    {
     "data": {
      "text/plain": [
       "0.4929"
      ]
     },
     "execution_count": 21,
     "metadata": {
      "tags": []
     },
     "output_type": "execute_result"
    }
   ],
   "source": [
    "accuracy(model_2, data_loader=get_val_loader(100))"
   ]
  },
  {
   "cell_type": "markdown",
   "metadata": {
    "id": "0cBFvwlz3a9m"
   },
   "source": [
    "Since the model still does get better, we do the same experiment with double the learning rate, to see what happens."
   ]
  },
  {
   "cell_type": "code",
   "execution_count": null,
   "metadata": {
    "colab": {
     "base_uri": "https://localhost:8080/"
    },
    "executionInfo": {
     "elapsed": 453740,
     "status": "ok",
     "timestamp": 1621767880261,
     "user": {
      "displayName": "Astrid Liest",
      "photoUrl": "",
      "userId": "06845326156793219721"
     },
     "user_tz": -120
    },
    "id": "94Ilsfmm3sU0",
    "outputId": "a8772b2f-e9c4-4ca9-eb45-c50aeed5ed52"
   },
   "outputs": [
    {
     "name": "stdout",
     "output_type": "stream",
     "text": [
      "epoch: 1, 2, 3, 4, 5, 6, 7, 8, 9, 10, 11, 12, 13, 14, 15, 16, 17, 18, 19, 20, 21, 22, 23, 24, 25, 26, 27, 28, 29, 30, 31, 32, 33, 34, 35, "
     ]
    }
   ],
   "source": [
    "model_3 = train(n_epochs=35, lr=6e-3, learning_curve=True, batch_size=20, prog_bar=False, hidden_dim1=128, hidden_dim2=48)"
   ]
  },
  {
   "cell_type": "code",
   "execution_count": null,
   "metadata": {
    "colab": {
     "base_uri": "https://localhost:8080/",
     "height": 364
    },
    "executionInfo": {
     "elapsed": 742,
     "status": "ok",
     "timestamp": 1621767932275,
     "user": {
      "displayName": "Astrid Liest",
      "photoUrl": "",
      "userId": "06845326156793219721"
     },
     "user_tz": -120
    },
    "id": "CnOeFYcf4IHj",
    "outputId": "1c9e57fc-8d74-43c2-e86e-66c85dca0aba"
   },
   "outputs": [
    {
     "name": "stdout",
     "output_type": "stream",
     "text": [
      "The model used learning rate 0.006, batch size 20 and 35 epochs.\n",
      "The dimension of hidden layer 1 was 128.\n",
      "The dimension of hidden layer 2 was 48.\n",
      "It achived the following results:\n"
     ]
    },
    {
     "data": {
      "image/png": "[encoded data removed]",
      "text/plain": [
       "<Figure size 432x288 with 1 Axes>"
      ]
     },
     "metadata": {
      "needs_background": "light",
      "tags": []
     },
     "output_type": "display_data"
    }
   ],
   "source": [
    "show_learning_curve('first_runs/model_ne35_lr0.006_bs20.pth') # model_3"
   ]
  },
  {
   "cell_type": "code",
   "execution_count": null,
   "metadata": {
    "colab": {
     "base_uri": "https://localhost:8080/"
    },
    "executionInfo": {
     "elapsed": 1295,
     "status": "ok",
     "timestamp": 1621767939141,
     "user": {
      "displayName": "Astrid Liest",
      "photoUrl": "",
      "userId": "06845326156793219721"
     },
     "user_tz": -120
    },
    "id": "SRTOq18z4m_2",
    "outputId": "0021d526-08e7-460f-d07d-00c99c0ea3ba"
   },
   "outputs": [
    {
     "name": "stderr",
     "output_type": "stream",
     "text": [
      "100%|██████████| 100/100 [00:01<00:00, 92.48it/s]\n"
     ]
    },
    {
     "data": {
      "text/plain": [
       "0.4743"
      ]
     },
     "execution_count": 24,
     "metadata": {
      "tags": []
     },
     "output_type": "execute_result"
    }
   ],
   "source": [
    "accuracy(model_3, data_loader=get_val_loader(100))"
   ]
  },
  {
   "cell_type": "markdown",
   "metadata": {
    "id": "kkW47g6W56TJ"
   },
   "source": [
    "As we see, the results were not so good. So our learning rate seems to be reasonable.\n",
    "\n",
    "Also, the difference of the valuation loss and training loss in the past results was not that low, so we will try again with fewer neurons and more epochs."
   ]
  },
  {
   "cell_type": "code",
   "execution_count": null,
   "metadata": {
    "colab": {
     "base_uri": "https://localhost:8080/"
    },
    "executionInfo": {
     "elapsed": 938062,
     "status": "ok",
     "timestamp": 1621769283222,
     "user": {
      "displayName": "Astrid Liest",
      "photoUrl": "",
      "userId": "06845326156793219721"
     },
     "user_tz": -120
    },
    "id": "2bdrAYjx6_Wt",
    "outputId": "f4c41d68-28a4-4d67-f753-0354db07a778"
   },
   "outputs": [
    {
     "name": "stdout",
     "output_type": "stream",
     "text": [
      "epoch: 1, 2, 3, 4, 5, 6, 7, 8, 9, 10, 11, 12, 13, 14, 15, 16, 17, 18, 19, 20, 21, 22, 23, 24, 25, 26, 27, 28, 29, 30, 31, 32, 33, 34, 35, 36, 37, 38, 39, 40, 41, 42, 43, 44, 45, 46, 47, 48, 49, 50, 51, 52, 53, 54, 55, 56, 57, 58, 59, 60, 61, 62, 63, 64, 65, 66, 67, 68, 69, 70, 71, 72, 73, 74, 75, 76, 77, 78, 79, 80, "
     ]
    }
   ],
   "source": [
    "model_4 = train(n_epochs=80, lr=3e-3, learning_curve=True, batch_size=20, prog_bar=False, hidden_dim1=96, hidden_dim2=48)"
   ]
  },
  {
   "cell_type": "code",
   "execution_count": null,
   "metadata": {
    "colab": {
     "base_uri": "https://localhost:8080/",
     "height": 364
    },
    "executionInfo": {
     "elapsed": 351,
     "status": "ok",
     "timestamp": 1621769288304,
     "user": {
      "displayName": "Astrid Liest",
      "photoUrl": "",
      "userId": "06845326156793219721"
     },
     "user_tz": -120
    },
    "id": "WKOW719A-hnf",
    "outputId": "27089f19-acd5-4328-9d53-cd423d5dcda8"
   },
   "outputs": [
    {
     "name": "stdout",
     "output_type": "stream",
     "text": [
      "The model used learning rate 0.003, batch size 20 and 80 epochs.\n",
      "The dimension of hidden layer 1 was 96.\n",
      "The dimension of hidden layer 2 was 48.\n",
      "It achived the following results:\n"
     ]
    },
    {
     "data": {
      "image/png": "[encoded data removed]",
      "text/plain": [
       "<Figure size 432x288 with 1 Axes>"
      ]
     },
     "metadata": {
      "needs_background": "light",
      "tags": []
     },
     "output_type": "display_data"
    }
   ],
   "source": [
    "show_learning_curve('first_runs/model_ne80_lr0.003_bs20.pth') # model_4"
   ]
  },
  {
   "cell_type": "code",
   "execution_count": null,
   "metadata": {
    "colab": {
     "base_uri": "https://localhost:8080/"
    },
    "executionInfo": {
     "elapsed": 1256,
     "status": "ok",
     "timestamp": 1621769295778,
     "user": {
      "displayName": "Astrid Liest",
      "photoUrl": "",
      "userId": "06845326156793219721"
     },
     "user_tz": -120
    },
    "id": "oeTP6YEg-uAw",
    "outputId": "2e447253-5521-449e-9faf-011d5c43bb97"
   },
   "outputs": [
    {
     "name": "stderr",
     "output_type": "stream",
     "text": [
      "100%|██████████| 100/100 [00:00<00:00, 102.12it/s]\n"
     ]
    },
    {
     "data": {
      "text/plain": [
       "0.5158"
      ]
     },
     "execution_count": 27,
     "metadata": {
      "tags": []
     },
     "output_type": "execute_result"
    }
   ],
   "source": [
    "accuracy(model_4, data_loader=get_val_loader(100))"
   ]
  },
  {
   "cell_type": "code",
   "execution_count": null,
   "metadata": {
    "colab": {
     "base_uri": "https://localhost:8080/",
     "height": 364
    },
    "executionInfo": {
     "elapsed": 676,
     "status": "ok",
     "timestamp": 1621770250371,
     "user": {
      "displayName": "Astrid Liest",
      "photoUrl": "",
      "userId": "06845326156793219721"
     },
     "user_tz": -120
    },
    "id": "88HojgtH_y_y",
    "outputId": "540fcc8f-5fbc-4491-ad11-f3e939aad937"
   },
   "outputs": [
    {
     "name": "stdout",
     "output_type": "stream",
     "text": [
      "The model used learning rate 0.003, batch size 20 and 80 epochs.\n",
      "The dimension of hidden layer 1 was 96.\n",
      "The dimension of hidden layer 2 was 48.\n",
      "The norm of its gradients in the last layer has developed in the following way:\n"
     ]
    },
    {
     "data": {
      "image/png": "[encoded data removed]",
      "text/plain": [
       "<Figure size 432x288 with 1 Axes>"
      ]
     },
     "metadata": {
      "needs_background": "light",
      "tags": []
     },
     "output_type": "display_data"
    }
   ],
   "source": [
    "show_grad_curve('first_runs/model_ne80_lr0.003_bs20.pth') # model_4"
   ]
  },
  {
   "cell_type": "markdown",
   "metadata": {
    "id": "CNRC0Hez_R5S"
   },
   "source": [
    "As we see, at about 40 epochs, the model does not seem to get better any more.\n",
    "\n",
    "So 40 epochs seems like a reasonable choice and also our choice for the learning rate seems to be reasonable.\n",
    "\n",
    "Since we now know a somewhat good number of epochs and learning rate, we use the hyperparameter optimization library hyperopt to optimize the size of the last layer and the batch size. "
   ]
  },
  {
   "cell_type": "code",
   "execution_count": 35,
   "metadata": {
    "executionInfo": {
     "elapsed": 579,
     "status": "ok",
     "timestamp": 1621777993277,
     "user": {
      "displayName": "Astrid Liest",
      "photoUrl": "",
      "userId": "06845326156793219721"
     },
     "user_tz": -120
    },
    "id": "E1PmZ5CVDT_n"
   },
   "outputs": [],
   "source": [
    "trials = Trials()"
   ]
  },
  {
   "cell_type": "code",
   "execution_count": 36,
   "metadata": {
    "executionInfo": {
     "elapsed": 5,
     "status": "ok",
     "timestamp": 1621777993668,
     "user": {
      "displayName": "Astrid Liest",
      "photoUrl": "",
      "userId": "06845326156793219721"
     },
     "user_tz": -120
    },
    "id": "nqHxPmdDzOJo"
   },
   "outputs": [],
   "source": [
    "val_loader = get_val_loader(100)\n",
    "\n",
    "def accuracy_hyp(space):    \n",
    "    batch_size = space['batch_size']\n",
    "    lr = 3e-3\n",
    "    n_epochs = 40\n",
    "    hidden_dim1 = 96\n",
    "    hidden_dim2 = space['hidden_dim2']\n",
    "\n",
    "    out = f\"n_epochs= {n_epochs} batch_size= {batch_size} lr= {lr} hidden_dim1= {hidden_dim1} hidden_dim2= {hidden_dim2}\"\n",
    "    print(out)\n",
    "\n",
    "    model = train(n_epochs=int(n_epochs), lr=lr, batch_size=int(batch_size), \n",
    "                        prog_bar=False, learning_curve=True,\n",
    "                        hidden_dim1=hidden_dim1, hidden_dim2=hidden_dim2)\n",
    "    return {'loss': (1-accuracy(model, prog_bar=False, data_loader=val_loader)), 'status': STATUS_OK, 'model': model}\n",
    "\n",
    "space = {\n",
    "    'batch_size': hp.quniform('batch_size', 5, 40, 1),\n",
    "    'hidden_dim2': hp.quniform('hidden_dim2', 32, 64, 1)\n",
    "}"
   ]
  },
  {
   "cell_type": "code",
   "execution_count": 18,
   "metadata": {
    "executionInfo": {
     "elapsed": 14,
     "status": "ok",
     "timestamp": 1621777995843,
     "user": {
      "displayName": "Astrid Liest",
      "photoUrl": "",
      "userId": "06845326156793219721"
     },
     "user_tz": -120
    },
    "id": "EGq264arFC66"
   },
   "outputs": [],
   "source": [
    "set_random_seed(11)"
   ]
  },
  {
   "cell_type": "code",
   "execution_count": 39,
   "metadata": {
    "executionInfo": {
     "elapsed": 13,
     "status": "ok",
     "timestamp": 1621777996757,
     "user": {
      "displayName": "Astrid Liest",
      "photoUrl": "",
      "userId": "06845326156793219721"
     },
     "user_tz": -120
    },
    "id": "yZoUZHcSFPdo"
   },
   "outputs": [],
   "source": [
    "def save_trials(name):\n",
    "    savepath = f\"{BASE_PATH}/models/{name}\"\n",
    "    torch.save(trials, savepath)\n",
    "\n",
    "def load_trials(name):\n",
    "    path = f\"{BASE_PATH}/models/{name}\"\n",
    "    return torch.load(path, map_location=torch.device('cpu'))"
   ]
  },
  {
   "cell_type": "code",
   "execution_count": null,
   "metadata": {
    "colab": {
     "base_uri": "https://localhost:8080/"
    },
    "executionInfo": {
     "elapsed": 934088,
     "status": "ok",
     "timestamp": 1621775963737,
     "user": {
      "displayName": "Astrid Liest",
      "photoUrl": "",
      "userId": "06845326156793219721"
     },
     "user_tz": -120
    },
    "id": "ZliBRhiLDnp8",
    "outputId": "839bdbbf-cfd5-4a12-9c14-d6f45b235cf3"
   },
   "outputs": [
    {
     "name": "stdout",
     "output_type": "stream",
     "text": [
      "n_epochs= 40 batch_size= 27.0 lr= 0.003 hidden_dim1= 96 hidden_dim2= 34.0\n",
      "epoch: \n",
      "1, \n",
      "2, \n",
      "3, \n",
      "4, \n",
      "5, \n",
      "6, \n",
      "7, \n",
      "8, \n",
      "9, \n",
      "10, \n",
      "11, \n",
      "12, \n",
      "13, \n",
      "14, \n",
      "15, \n",
      "16, \n",
      "17, \n",
      "18, \n",
      "19, \n",
      "20, \n",
      "21, \n",
      "22, \n",
      "23, \n",
      "24, \n",
      "25, \n",
      "26, \n",
      "27, \n",
      "28, \n",
      "29, \n",
      "30, \n",
      "31, \n",
      "32, \n",
      "33, \n",
      "34, \n",
      "35, \n",
      "36, \n",
      "37, \n",
      "38, \n",
      "39, \n",
      "40, \n",
      "n_epochs= 40 batch_size= 13.0 lr= 0.003 hidden_dim1= 96 hidden_dim2= 39.0\n",
      "epoch: \n",
      "1, \n",
      "2, \n",
      "3, \n",
      "4, \n",
      "5, \n",
      "6, \n",
      "7, \n",
      "8, \n",
      "9, \n",
      "10, \n",
      "11, \n",
      "12, \n",
      "13, \n",
      "14, \n",
      "15, \n",
      "16, \n",
      "17, \n",
      "18, \n",
      "19, \n",
      "20, \n",
      "21, \n",
      "22, \n",
      "23, \n",
      "24, \n",
      "25, \n",
      "26, \n",
      "27, \n",
      "28, \n",
      "29, \n",
      "30, \n",
      "31, \n",
      "32, \n",
      "33, \n",
      "34, \n",
      "35, \n",
      "36, \n",
      "37, \n",
      "38, \n",
      "39, \n",
      "40, \n",
      "100%|██████████| 2/2 [15:33<00:00, 466.93s/it, best loss: 0.49570000000000003]\n"
     ]
    }
   ],
   "source": [
    "# start with 2 trials only\n",
    "best  = fmin(\n",
    "    fn=accuracy_hyp,\n",
    "    space=space,\n",
    "    algo=tpe.suggest,\n",
    "    max_evals=2,\n",
    "    trials=trials\n",
    ")\n",
    "\n",
    "save_trials('trials_2.pth')"
   ]
  },
  {
   "cell_type": "code",
   "execution_count": 40,
   "metadata": {
    "colab": {
     "base_uri": "https://localhost:8080/",
     "height": 835
    },
    "executionInfo": {
     "elapsed": 629429,
     "status": "error",
     "timestamp": 1621778641345,
     "user": {
      "displayName": "Astrid Liest",
      "photoUrl": "",
      "userId": "06845326156793219721"
     },
     "user_tz": -120
    },
    "id": "YT2wqCV3TVMt",
    "outputId": "1142f5cc-6b26-4dbe-e40e-030f76e4b392"
   },
   "outputs": [
    {
     "name": "stdout",
     "output_type": "stream",
     "text": [
      "n_epochs= 40 batch_size= 27.0 lr= 0.003 hidden_dim1= 96 hidden_dim2= 49.0\n",
      "epoch:                                                \n",
      "1,                                                    \n",
      "2,                                                    \n",
      "3,                                                    \n",
      "4,                                                    \n",
      "5,                                                    \n",
      "6,                                                    \n",
      "7,                                                    \n",
      "8,                                                    \n",
      "9,                                                    \n",
      "10,                                                   \n",
      "11,                                                   \n",
      "12,                                                   \n",
      "13,                                                   \n",
      "14,                                                   \n",
      "15,                                                   \n",
      "16,                                                   \n",
      "17,                                                   \n",
      "18,                                                   \n",
      "19,                                                   \n",
      "20,                                                   \n",
      "21,                                                   \n",
      "22,                                                   \n",
      "23,                                                   \n",
      "24,                                                   \n",
      "25,                                                   \n",
      "26,                                                   \n",
      "27,                                                   \n",
      "28,                                                   \n",
      "29,                                                   \n",
      "30,                                                   \n",
      "31,                                                   \n",
      "32,                                                   \n",
      "33,                                                   \n",
      "34,                                                   \n",
      "35,                                                   \n",
      "36,                                                   \n",
      "37,                                                   \n",
      "38,                                                   \n",
      "39,                                                   \n",
      "40,                                                   \n",
      "n_epochs= 40 batch_size= 17.0 lr= 0.003 hidden_dim1= 96 hidden_dim2= 61.0           \n",
      "epoch:                                                                              \n",
      "1,                                                                                  \n",
      "2,                                                                                  \n",
      "3,                                                                                  \n",
      "4,                                                                                  \n",
      "5,                                                                                  \n",
      "6,                                                                                  \n",
      "7,                                                                                  \n",
      "8,                                                                                  \n",
      "9,                                                                                  \n",
      "10,                                                                                 \n",
      "11,                                                                                 \n",
      "12,                                                                                 \n",
      "13,                                                                                 \n",
      "14,                                                                                 \n",
      "15,                                                                                 \n",
      "16,                                                                                 \n",
      "17,                                                                                 \n",
      "18,                                                                                 \n",
      "19,                                                                                 \n",
      "20,                                                                                 \n",
      "21,                                                                                 \n",
      "22,                                                                                 \n",
      "23,                                                                                 \n",
      "24,                                                                                 \n",
      "25,                                                                                 \n",
      "26,                                                                                 \n",
      "27,                                                                                 \n",
      "28,                                                                                 \n",
      "29,                                                                                 \n",
      "30,                                                                                 \n",
      "31,                                                                                 \n",
      "32,                                                                                 \n",
      "33,                                                                                 \n",
      "34,                                                                                 \n",
      "35,                                                                                 \n",
      "36,                                                                                 \n",
      "37,                                                                                 \n",
      "38,                                                                                 \n",
      "39,                                                                                 \n",
      "40,                                                                                 \n",
      "n_epochs= 40 batch_size= 21.0 lr= 0.003 hidden_dim1= 96 hidden_dim2= 55.0           \n",
      "epoch:                                                                            \n",
      "1,                                                                                \n",
      "2,                                                                                \n",
      "3,                                                                                \n",
      "4,                                                                                \n",
      "5,                                                                                \n",
      "6,                                                                                \n",
      "7,                                                                                \n",
      "8,                                                                                \n",
      "9,                                                                                \n",
      "10,                                                                               \n",
      "11,                                                                               \n",
      "12,                                                                               \n",
      "13,                                                                               \n",
      "14,                                                                               \n",
      "15,                                                                               \n",
      "16,                                                                               \n",
      "17,                                                                               \n",
      "18,                                                                               \n",
      "19,                                                                               \n",
      "20,                                                                               \n",
      "21,                                                                               \n",
      "22,                                                                               \n",
      "23,                                                                               \n",
      "24,                                                                               \n",
      "25,                                                                               \n",
      "26,                                                                               \n",
      "27,                                                                               \n",
      "28,                                                                               \n",
      "29,                                                                               \n",
      "30,                                                                               \n",
      "31,                                                                               \n",
      "32,                                                                               \n",
      "33,                                                                               \n",
      "34,                                                                               \n",
      "35,                                                                               \n",
      "36,                                                                               \n",
      "37,                                                                               \n",
      "38,                                                                               \n",
      "39,                                                                               \n",
      "40,                                                                               \n",
      "n_epochs= 40 batch_size= 37.0 lr= 0.003 hidden_dim1= 96 hidden_dim2= 35.0         \n",
      "epoch:                                                               \n",
      "1,                                                                   \n",
      "2,                                                                   \n",
      "3,                                                                   \n",
      "4,                                                                   \n",
      "5,                                                                   \n",
      "6,                                                                   \n",
      "7,                                                                   \n",
      "8,                                                                   \n",
      "9,                                                                   \n",
      "10,                                                                  \n",
      "11,                                                                  \n",
      "12,                                                                  \n",
      "13,                                                                  \n",
      "14,                                                                  \n",
      "15,                                                                  \n",
      "16,                                                                  \n",
      "17,                                                                  \n",
      "18,                                                                  \n",
      "19,                                                                  \n",
      "20,                                                                  \n",
      "21,                                                                  \n",
      "22,                                                                  \n",
      "23,                                                                  \n",
      "24,                                                                  \n",
      "25,                                                                  \n",
      "26,                                                                  \n",
      "27,                                                                  \n",
      "28,                                                                  \n",
      "29,                                                                  \n",
      "30,                                                                  \n",
      "31,                                                                  \n",
      "32,                                                                  \n",
      "33,                                                                  \n",
      "34,                                                                  \n",
      "35,                                                                  \n",
      "36,                                                                  \n",
      "37,                                                                  \n",
      "38,                                                                  \n",
      "39,                                                                  \n",
      "40,                                                                  \n",
      "n_epochs= 40 batch_size= 27.0 lr= 0.003 hidden_dim1= 96 hidden_dim2= 59.0\n",
      "epoch:                                                               \n",
      "1,                                                                   \n",
      "2,                                                                   \n",
      "3,                                                                   \n",
      "4,                                                                   \n",
      "5,                                                                   \n",
      "6,                                                                   \n",
      "7,                                                                   \n",
      "8,                                                                   \n",
      "9,                                                                   \n",
      "10,                                                                  \n",
      "11,                                                                  \n",
      "12,                                                                  \n",
      "13,                                                                  \n",
      "14,                                                                  \n",
      "15,                                                                  \n",
      "16,                                                                  \n",
      "17,                                                                  \n",
      "18,                                                                  \n",
      "19,                                                                  \n",
      "20,                                                                  \n",
      "21,                                                                  \n",
      "22,                                                                  \n",
      "23,                                                                  \n",
      "24,                                                                  \n",
      "25,                                                                  \n",
      "26,                                                                  \n",
      "27,                                                                  \n",
      "28,                                                                  \n",
      "29,                                                                  \n",
      "30,                                                                  \n",
      "31,                                                                  \n",
      "32,                                                                  \n",
      "33,                                                                  \n",
      "34,                                                                  \n",
      "35,                                                                  \n",
      "36,                                                                  \n",
      "37,                                                                  \n",
      "38,                                                                  \n",
      "39,                                                                  \n",
      "40,                                                                  \n",
      "n_epochs= 40 batch_size= 31.0 lr= 0.003 hidden_dim1= 96 hidden_dim2= 37.0\n",
      "epoch:                                                               \n",
      "1,                                                                   \n",
      "2,                                                                   \n",
      "3,                                                                   \n",
      "4,                                                                   \n",
      "5,                                                                   \n",
      "6,                                                                   \n",
      "7,                                                                   \n",
      "8,                                                                   \n",
      "9,                                                                   \n",
      "10,                                                                  \n",
      "11,                                                                  \n",
      "12,                                                                  \n",
      "13,                                                                  \n",
      "14,                                                                  \n",
      "15,                                                                  \n",
      "16,                                                                  \n",
      "17,                                                                  \n",
      "18,                                                                  \n",
      "19,                                                                  \n",
      "20,                                                                  \n",
      "21,                                                                  \n",
      "22,                                                                  \n",
      "23,                                                                  \n",
      "24,                                                                  \n",
      "25,                                                                  \n",
      "26,                                                                  \n",
      "27,                                                                  \n",
      "28,                                                                  \n",
      "29,                                                                  \n",
      "30,                                                                  \n",
      "31,                                                                  \n",
      "32,                                                                  \n",
      "33,                                                                  \n",
      "34,                                                                  \n",
      "35,                                                                  \n",
      "36,                                                                  \n",
      "37,                                                                  \n",
      "38,                                                                  \n",
      "39,                                                                  \n",
      "40,                                                                  \n",
      "n_epochs= 40 batch_size= 38.0 lr= 0.003 hidden_dim1= 96 hidden_dim2= 36.0\n",
      "epoch:                                                               \n",
      "1,                                                                   \n",
      "2,                                                                   \n",
      "3,                                                                   \n",
      "4,                                                                   \n",
      "5,                                                                   \n",
      "6,                                                                   \n",
      "7,                                                                   \n",
      "8,                                                                   \n",
      "9,                                                                   \n",
      "10,                                                                  \n",
      "11,                                                                  \n",
      "12,                                                                  \n",
      "13,                                                                  \n",
      "14,                                                                  \n",
      "15,                                                                  \n",
      "16,                                                                  \n",
      "17,                                                                  \n",
      "18,                                                                  \n",
      "19,                                                                  \n",
      "20,                                                                  \n",
      "21,                                                                  \n",
      "22,                                                                  \n",
      "23,                                                                  \n",
      "24,                                                                  \n",
      "25,                                                                  \n",
      "26,                                                                  \n",
      "27,                                                                  \n",
      "28,                                                                  \n",
      "29,                                                                  \n",
      "30,                                                                  \n",
      "31,                                                                  \n",
      "32,                                                                  \n",
      "33,                                                                  \n",
      "34,                                                                  \n",
      "35,                                                                  \n",
      "36,                                                                  \n",
      "37,                                                                  \n",
      "38,                                                                  \n",
      "39,                                                                  \n",
      "40,                                                                  \n",
      "n_epochs= 40 batch_size= 17.0 lr= 0.003 hidden_dim1= 96 hidden_dim2= 62.0\n",
      "epoch:                                                               \n",
      "1,                                                                   \n",
      "2,                                                                   \n",
      "3,                                                                   \n",
      "4,                                                                   \n",
      "5,                                                                   \n",
      "6,                                                                   \n",
      "7,                                                                   \n",
      "8,                                                                   \n",
      "9,                                                                   \n",
      "10,                                                                  \n",
      "11,                                                                  \n",
      "12,                                                                  \n",
      "13,                                                                  \n",
      "14,                                                                  \n",
      "15,                                                                  \n",
      "16,                                                                  \n",
      "17,                                                                  \n",
      "18,                                                                  \n",
      "19,                                                                  \n",
      "20,                                                                  \n",
      "21,                                                                  \n",
      "22,                                                                  \n",
      "23,                                                                  \n",
      "24,                                                                  \n",
      "25,                                                                  \n",
      "26,                                                                  \n",
      "27,                                                                  \n",
      "28,                                                                  \n",
      "29,                                                                  \n",
      "30,                                                                  \n",
      "31,                                                                  \n",
      "32,                                                                  \n",
      "33,                                                                  \n",
      "34,                                                                  \n",
      "35,                                                                  \n",
      "36,                                                                  \n",
      "37,                                                                  \n",
      "38,                                                                  \n",
      "39,                                                                  \n",
      "40,                                                                  \n",
      "n_epochs= 40 batch_size= 20.0 lr= 0.003 hidden_dim1= 96 hidden_dim2= 33.0\n",
      "epoch:                                                                \n",
      "1,                                                                    \n",
      "2,                                                                    \n",
      "3,                                                                    \n",
      "4,                                                                    \n",
      "5,                                                                    \n",
      "6,                                                                    \n",
      "7,                                                                    \n",
      "8,                                                                    \n",
      "9,                                                                    \n",
      "10,                                                                   \n",
      "11,                                                                   \n",
      "12,                                                                   \n",
      "13,                                                                   \n",
      "14,                                                                   \n",
      "15,                                                                   \n",
      "16,                                                                   \n",
      "17,                                                                   \n",
      "18,                                                                   \n",
      "19,                                                                   \n",
      "20,                                                                   \n",
      "21,                                                                   \n",
      "22,                                                                   \n",
      "23,                                                                   \n",
      "24,                                                                   \n",
      "25,                                                                   \n",
      "26,                                                                   \n",
      "27,                                                                   \n",
      "28,                                                                   \n",
      "29,                                                                   \n",
      "30,                                                                   \n",
      "31,                                                                   \n",
      "32,                                                                   \n",
      "33,                                                                   \n",
      "34,                                                                   \n",
      "35,                                                                   \n",
      "36,                                                                   \n",
      "37,                                                                   \n",
      "38,                                                                   \n",
      "39,                                                                   \n",
      "40,                                                                   \n",
      "n_epochs= 40 batch_size= 33.0 lr= 0.003 hidden_dim1= 96 hidden_dim2= 41.0\n",
      "epoch:                                                                \n",
      "1,                                                                    \n",
      "2,                                                                    \n",
      "3,                                                                    \n",
      "4,                                                                    \n",
      "5,                                                                    \n",
      "6,                                                                    \n",
      "7,                                                                    \n",
      "8,                                                                    \n",
      "9,                                                                    \n",
      "10,                                                                   \n",
      "11,                                                                   \n",
      "12,                                                                   \n",
      "13,                                                                   \n",
      "14,                                                                   \n",
      "15,                                                                   \n",
      "16,                                                                   \n",
      "17,                                                                   \n",
      "18,                                                                   \n",
      "19,                                                                   \n",
      "20,                                                                   \n",
      "21,                                                                   \n",
      "22,                                                                   \n",
      "23,                                                                   \n",
      "24,                                                                   \n",
      "25,                                                                   \n",
      "26,                                                                   \n",
      "27,                                                                   \n",
      "28,                                                                   \n",
      "29,                                                                   \n",
      "30,                                                                   \n",
      "31,                                                                   \n",
      "32,                                                                   \n",
      "33,                                                                   \n",
      "34,                                                                   \n",
      "35,                                                                   \n",
      "36,                                                                   \n",
      "37,                                                                   \n",
      "38,                                                                   \n",
      "39,                                                                   \n",
      "40,                                                                   \n",
      "n_epochs= 40 batch_size= 7.0 lr= 0.003 hidden_dim1= 96 hidden_dim2= 42.0\n",
      "epoch:                                                                \n",
      "1,                                                                    \n",
      "2,                                                                    \n",
      "3,                                                                    \n",
      "4,                                                                    \n",
      "5,                                                                    \n",
      "6,                                                                    \n",
      "7,                                                                    \n",
      "8,                                                                    \n",
      "9,                                                                    \n",
      "10,                                                                   \n",
      "11,                                                                   \n",
      "12,                                                                   \n",
      "13,                                                                   \n",
      "14,                                                                   \n",
      "15,                                                                   \n",
      "16,                                                                   \n",
      "17,                                                                   \n",
      "18,                                                                   \n",
      "19,                                                                   \n",
      "20,                                                                   \n",
      "21,                                                                   \n",
      "22,                                                                   \n",
      "23,                                                                   \n",
      "24,                                                                   \n",
      "25,                                                                   \n",
      "26,                                                                   \n",
      "27,                                                                   \n",
      "28,                                                                   \n",
      "29,                                                                   \n",
      "30,                                                                   \n",
      "31,                                                                   \n",
      "32,                                                                   \n",
      "33,                                                                   \n",
      "34,                                                                   \n",
      "35,                                                                   \n",
      "36,                                                                   \n",
      "37,                                                                   \n",
      "38,                                                                   \n",
      "39,                                                                   \n",
      "40,                                                                   \n",
      "n_epochs= 40 batch_size= 24.0 lr= 0.003 hidden_dim1= 96 hidden_dim2= 49.0\n",
      "epoch:                                                                \n",
      "1,                                                                    \n",
      "2,                                                                    \n",
      "3,                                                                    \n",
      "4,                                                                    \n",
      "5,                                                                    \n",
      "6,                                                                    \n",
      "7,                                                                    \n",
      "8,                                                                    \n",
      "9,                                                                    \n",
      "10,                                                                   \n",
      "11,                                                                   \n",
      "12,                                                                     \n",
      "13,                                                                     \n",
      "14,                                                                     \n",
      "15,                                                                     \n",
      "16,                                                                     \n",
      "17,                                                                     \n",
      "18,                                                                     \n",
      "19,                                                                     \n",
      "20,                                                                     \n",
      "21,                                                                     \n",
      "22,                                                                     \n",
      "23,                                                                     \n",
      "24,                                                                     \n",
      "25,                                                                     \n",
      "26,                                                                     \n",
      "27,                                                                     \n",
      "28,                                                                     \n",
      "29,                                                                     \n",
      "30,                                                                     \n",
      "31,                                                                     \n",
      "32,                                                                     \n",
      "33,                                                                     \n",
      "34,                                                                     \n",
      "35,                                                                     \n",
      "36,                                                                     \n",
      "37,                                                                     \n",
      "38,                                                                     \n",
      "39,                                                                     \n",
      "40,                                                                     \n",
      "n_epochs= 40 batch_size= 17.0 lr= 0.003 hidden_dim1= 96 hidden_dim2= 35.0\n",
      "epoch:                                                                  \n",
      "1,                                                                      \n",
      "2,                                                                      \n",
      "3,                                                                      \n",
      "4,                                                                      \n",
      "5,                                                                      \n",
      "6,                                                                      \n",
      "7,                                                                      \n",
      "8,                                                                      \n",
      "9,                                                                      \n",
      "10,                                                                     \n",
      "11,                                                                     \n",
      "12,                                                                     \n",
      "13,                                                                     \n",
      "14,                                                                     \n",
      "15,                                                                     \n",
      "16,                                                                     \n",
      "17,                                                                     \n",
      "18,                                                                     \n",
      "19,                                                                     \n",
      "20,                                                                     \n",
      "21,                                                                     \n",
      "22,                                                                     \n",
      "23,                                                                     \n",
      "24,                                                                     \n",
      "25,                                                                     \n",
      "26,                                                                     \n",
      "27,                                                                     \n",
      "28,                                                                     \n",
      "29,                                                                     \n",
      "30,                                                                     \n",
      "31,                                                                     \n",
      "32,                                                                     \n",
      "33,                                                                     \n",
      "34,                                                                     \n",
      "35,                                                                     \n",
      "36,                                                                     \n",
      "37,                                                                     \n",
      "38,                                                                     \n",
      "39,                                                                     \n",
      "40,                                                                     \n",
      "100%|██████████| 15/15 [1:09:34<00:00, 321.08s/trial, best loss: 0.49150000000000005]\n"
     ]
    }
   ],
   "source": [
    "set_random_seed(33)\n",
    "# do another 13 trials\n",
    "trials = load_trials('trials_2.pth')\n",
    "best  = fmin(\n",
    "    fn=accuracy_hyp,\n",
    "    space=space,\n",
    "    algo=tpe.suggest,\n",
    "    max_evals=15,\n",
    "    trials=trials\n",
    ")\n",
    "\n",
    "save_trials('trials_15.pth')"
   ]
  },
  {
   "cell_type": "code",
   "execution_count": 41,
   "metadata": {
    "colab": {
     "base_uri": "https://localhost:8080/"
    },
    "executionInfo": {
     "elapsed": 506,
     "status": "ok",
     "timestamp": 1621774571680,
     "user": {
      "displayName": "Astrid Liest",
      "photoUrl": "",
      "userId": "06845326156793219721"
     },
     "user_tz": -120
    },
    "id": "Jr55GQRgTAoO",
    "outputId": "677aa076-22fe-4445-a076-36ce133bd684"
   },
   "outputs": [
    {
     "data": {
      "text/plain": [
       "{'batch_size': 17.0, 'hidden_dim2': 35.0}"
      ]
     },
     "execution_count": 41,
     "metadata": {},
     "output_type": "execute_result"
    }
   ],
   "source": [
    "best"
   ]
  },
  {
   "cell_type": "markdown",
   "metadata": {},
   "source": [
    "As we see, the best batch size according to the algorithm is 17 and the best dimension for hidden layer two is 35.\n",
    "\n",
    "This seems reasonable, because also in the last plot before useing the library to search for the best hyperparameters, the model somewhat overfits.\n",
    "\n",
    "We will now train the model with the suggested hyperparameters and look at the results."
   ]
  },
  {
   "cell_type": "code",
   "execution_count": 44,
   "metadata": {},
   "outputs": [
    {
     "name": "stdout",
     "output_type": "stream",
     "text": [
      "epoch: 1, 2, 3, 4, 5, 6, 7, 8, 9, 10, 11, 12, 13, 14, 15, 16, 17, 18, 19, 20, 21, 22, 23, 24, 25, 26, 27, 28, 29, 30, 31, 32, 33, 34, 35, 36, 37, 38, 39, 40, "
     ]
    }
   ],
   "source": [
    "set_random_seed(55)\n",
    "model_5 = train(n_epochs=40, lr=3e-3, learning_curve=True, batch_size=17, prog_bar=False, hidden_dim1=96, hidden_dim2=35)"
   ]
  },
  {
   "cell_type": "code",
   "execution_count": 46,
   "metadata": {},
   "outputs": [
    {
     "name": "stdout",
     "output_type": "stream",
     "text": [
      "The model used learning rate 0.003, batch size 17 and 40 epochs.\n",
      "The dimension of hidden layer 1 was 96.\n",
      "The dimension of hidden layer 2 was 35.0.\n",
      "It achived the following results:\n"
     ]
    },
    {
     "data": {
      "image/png": "[encoded data removed]",
      "text/plain": [
       "<Figure size 432x288 with 1 Axes>"
      ]
     },
     "metadata": {
      "needs_background": "light"
     },
     "output_type": "display_data"
    }
   ],
   "source": [
    "show_learning_curve('model_ne40_lr0.003_bs17_hd235.0.pth')"
   ]
  },
  {
   "cell_type": "code",
   "execution_count": 47,
   "metadata": {},
   "outputs": [
    {
     "name": "stderr",
     "output_type": "stream",
     "text": [
      "100%|██████████| 100/100 [00:00<00:00, 132.56it/s]\n"
     ]
    },
    {
     "data": {
      "text/plain": [
       "0.4893"
      ]
     },
     "execution_count": 47,
     "metadata": {},
     "output_type": "execute_result"
    }
   ],
   "source": [
    "accuracy(model_5, data_loader=get_val_loader(100))"
   ]
  },
  {
   "cell_type": "markdown",
   "metadata": {},
   "source": [
    "The accuracy is not that high.\n",
    "Since the model still slightly overfits, we try out another experiment with lower dimension of layer 2 and lower learning rate."
   ]
  },
  {
   "cell_type": "code",
   "execution_count": 48,
   "metadata": {},
   "outputs": [
    {
     "name": "stdout",
     "output_type": "stream",
     "text": [
      "epoch: 1, 2, 3, 4, 5, 6, 7, 8, 9, 10, 11, 12, 13, 14, 15, 16, 17, 18, 19, 20, 21, 22, 23, 24, 25, 26, 27, 28, 29, 30, 31, 32, 33, 34, 35, 36, 37, 38, 39, 40, "
     ]
    }
   ],
   "source": [
    "set_random_seed(55)\n",
    "model_6 = train(n_epochs=40, lr=1.5e-3, learning_curve=True, batch_size=17, prog_bar=False, hidden_dim1=96, hidden_dim2=25)"
   ]
  },
  {
   "cell_type": "code",
   "execution_count": 49,
   "metadata": {},
   "outputs": [
    {
     "name": "stdout",
     "output_type": "stream",
     "text": [
      "The model used learning rate 0.0015, batch size 17 and 40 epochs.\n",
      "The dimension of hidden layer 1 was 96.\n",
      "The dimension of hidden layer 2 was 25.\n",
      "It achived the following results:\n"
     ]
    },
    {
     "data": {
      "image/png": "[encoded data removed]",
      "text/plain": [
       "<Figure size 432x288 with 1 Axes>"
      ]
     },
     "metadata": {
      "needs_background": "light"
     },
     "output_type": "display_data"
    }
   ],
   "source": [
    "show_learning_curve('model_ne40_lr0.0015_bs17_hd225.pth')"
   ]
  },
  {
   "cell_type": "code",
   "execution_count": 50,
   "metadata": {},
   "outputs": [
    {
     "name": "stderr",
     "output_type": "stream",
     "text": [
      "100%|██████████| 100/100 [00:00<00:00, 128.72it/s]\n"
     ]
    },
    {
     "data": {
      "text/plain": [
       "0.4855"
      ]
     },
     "execution_count": 50,
     "metadata": {},
     "output_type": "execute_result"
    }
   ],
   "source": [
    "accuracy(model_6, data_loader=get_val_loader(100))"
   ]
  },
  {
   "cell_type": "markdown",
   "metadata": {},
   "source": [
    "The Accuracy in this experiment is worse, so maybe the result of the algorithm was not that bad after all.\n",
    "\n",
    "So as a final result we take model_5 which we trained on the following parameters:\n",
    "\n",
    "n_epochs=40, \n",
    "lr=3e-3, \n",
    "batch_size=17, \n",
    "hidden_dim1=96 and\n",
    "hidden_dim2=35\n",
    "\n",
    "The norm of the gradient of the last layer from this model is the following:"
   ]
  },
  {
   "cell_type": "code",
   "execution_count": 57,
   "metadata": {},
   "outputs": [
    {
     "name": "stdout",
     "output_type": "stream",
     "text": [
      "The model used learning rate 0.003, batch size 17 and 40 epochs.\n",
      "The dimension of hidden layer 1 was 96.\n",
      "The dimension of hidden layer 2 was 35.0.\n",
      "The norm of its gradients in the last layer has developed in the following way:\n"
     ]
    },
    {
     "data": {
      "image/png": "[encoded data removed]",
      "text/plain": [
       "<Figure size 432x288 with 1 Axes>"
      ]
     },
     "metadata": {
      "needs_background": "light"
     },
     "output_type": "display_data"
    }
   ],
   "source": [
    "show_grad_curve('model_ne40_lr0.003_bs17_hd235.0.pth')"
   ]
  },
  {
   "cell_type": "markdown",
   "metadata": {},
   "source": [
    "The accuracy on the test-data is 48.89% as we can see here:"
   ]
  },
  {
   "cell_type": "code",
   "execution_count": 56,
   "metadata": {},
   "outputs": [
    {
     "name": "stderr",
     "output_type": "stream",
     "text": [
      "100%|██████████| 100/100 [00:00<00:00, 130.73it/s]\n"
     ]
    },
    {
     "data": {
      "text/plain": [
       "0.4889"
      ]
     },
     "execution_count": 56,
     "metadata": {},
     "output_type": "execute_result"
    }
   ],
   "source": [
    "accuracy(model_5)"
   ]
  },
  {
   "cell_type": "markdown",
   "metadata": {
    "id": "I4w1LrHRaFA6"
   },
   "source": [
    "## Confusion matrix"
   ]
  },
  {
   "cell_type": "markdown",
   "metadata": {},
   "source": [
    "Now we also want to analyze the confusion matrix."
   ]
  },
  {
   "cell_type": "code",
   "execution_count": 61,
   "metadata": {
    "id": "JAJKtGFfaFA6"
   },
   "outputs": [],
   "source": [
    "def confusion_matrix(name, data_loader=get_val_loader(100)):\n",
    "    path = f\"{BASE_PATH}/models/{name}\"\n",
    "    saved_model = torch.load(path,  map_location=\"cpu\")\n",
    "\n",
    "    lr = saved_model['lr']\n",
    "    batch_size = int(saved_model['batch_size'])\n",
    "    n_epochs = int(saved_model['n_epochs'])\n",
    "    loss_hist = saved_model['loss_hist']\n",
    "    eval_hist = saved_model['eval_hist']\n",
    "    hidden_dim1 = int(saved_model['hidden_dim1'])\n",
    "    hidden_dim2 = int(saved_model['hidden_dim2'])\n",
    "\n",
    "    model=LogisticRegressionModel(hidden_dim1=hidden_dim1, hidden_dim2=hidden_dim2).to(device)\n",
    "    model.load_state_dict(saved_model['model_state_dict'])\n",
    "\n",
    "    print(f\"The model used learning rate {lr}, batch size {batch_size} and {n_epochs} epochs.\")\n",
    "    print(\"It has the following confusion matrix:\")\n",
    "\n",
    "    n_correct = 0\n",
    "    confusion_matrix = np.zeros((10,10), dtype=int)\n",
    "\n",
    "    with torch.no_grad():\n",
    "      progress_bar = tqdm(enumerate(data_loader), total=len(data_loader), position=0)\n",
    "      for i, (imgs, labels) in progress_bar: \n",
    "          #everything needs to be on the same device\n",
    "          imgs = imgs.to(device)\n",
    "          labels = labels.to(device)\n",
    "\n",
    "          # forward pass\n",
    "          pred_labels = model(imgs)\n",
    "\n",
    "          preds = torch.argmax(pred_labels, dim=-1)\n",
    "          for p, l in zip(preds, labels):\n",
    "              confusion_matrix[int(l), int(p)] += 1\n",
    "\n",
    "    sns.heatmap(confusion_matrix,\n",
    "              xticklabels=testset.classes, yticklabels=testset.classes, annot=True, fmt='d')"
   ]
  },
  {
   "cell_type": "code",
   "execution_count": 62,
   "metadata": {
    "colab": {
     "base_uri": "https://localhost:8080/",
     "height": 363
    },
    "executionInfo": {
     "elapsed": 2929,
     "status": "ok",
     "timestamp": 1621703977526,
     "user": {
      "displayName": "Astrid Liest",
      "photoUrl": "",
      "userId": "06845326156793219721"
     },
     "user_tz": -120
    },
    "id": "yq7pk7RmEbZl",
    "outputId": "22d04778-ed1f-4c90-ca11-a85febd59d22"
   },
   "outputs": [
    {
     "name": "stderr",
     "output_type": "stream",
     "text": [
      " 11%|█         | 11/100 [00:00<00:00, 106.40it/s]"
     ]
    },
    {
     "name": "stdout",
     "output_type": "stream",
     "text": [
      "The model used learning rate 0.003, batch size 17 and 40 epochs.\n",
      "It has the following confusion matrix:\n"
     ]
    },
    {
     "name": "stderr",
     "output_type": "stream",
     "text": [
      "100%|██████████| 100/100 [00:00<00:00, 125.03it/s]\n"
     ]
    },
    {
     "data": {
      "image/png": "[encoded data removed]",
      "text/plain": [
       "<Figure size 432x288 with 2 Axes>"
      ]
     },
     "metadata": {
      "needs_background": "light"
     },
     "output_type": "display_data"
    }
   ],
   "source": [
    "confusion_matrix(\"model_ne40_lr0.003_bs17_hd235.0.pth\")"
   ]
  },
  {
   "cell_type": "markdown",
   "metadata": {
    "id": "4k53qwu_EjgZ"
   },
   "source": [
    "The rows are the true labels and the columns are the predicted labels.\n",
    "\n",
    "As we can see, most often, cats are misclassified as dogs and automobiles are misclassified as trucks.\n",
    "\n",
    "Both of those observations are reasonable."
   ]
  }
 ],
 "metadata": {
  "accelerator": "GPU",
  "colab": {
   "collapsed_sections": [],
   "name": "assignment_02.ipynb",
   "provenance": []
  },
  "kernelspec": {
   "display_name": "Python 3",
   "language": "python",
   "name": "python3"
  },
  "language_info": {
   "codemirror_mode": {
    "name": "ipython",
    "version": 3
   },
   "file_extension": ".py",
   "mimetype": "text/x-python",
   "name": "python",
   "nbconvert_exporter": "python",
   "pygments_lexer": "ipython3",
   "version": "3.8.8"
  },
  "widgets": {
   "application/vnd.jupyter.widget-state+json": {
    "2ead369644c84c89a39b69df2bb09745": {
     "model_module": "@jupyter-widgets/base",
     "model_name": "LayoutModel",
     "state": {
      "_model_module": "@jupyter-widgets/base",
      "_model_module_version": "1.2.0",
      "_model_name": "LayoutModel",
      "_view_count": null,
      "_view_module": "@jupyter-widgets/base",
      "_view_module_version": "1.2.0",
      "_view_name": "LayoutView",
      "align_content": null,
      "align_items": null,
      "align_self": null,
      "border": null,
      "bottom": null,
      "display": null,
      "flex": null,
      "flex_flow": null,
      "grid_area": null,
      "grid_auto_columns": null,
      "grid_auto_flow": null,
      "grid_auto_rows": null,
      "grid_column": null,
      "grid_gap": null,
      "grid_row": null,
      "grid_template_areas": null,
      "grid_template_columns": null,
      "grid_template_rows": null,
      "height": null,
      "justify_content": null,
      "justify_items": null,
      "left": null,
      "margin": null,
      "max_height": null,
      "max_width": null,
      "min_height": null,
      "min_width": null,
      "object_fit": null,
      "object_position": null,
      "order": null,
      "overflow": null,
      "overflow_x": null,
      "overflow_y": null,
      "padding": null,
      "right": null,
      "top": null,
      "visibility": null,
      "width": null
     }
    },
    "40c79e7cd83a4828bd1e2f8fa47b959e": {
     "model_module": "@jupyter-widgets/controls",
     "model_name": "HTMLModel",
     "state": {
      "_dom_classes": [],
      "_model_module": "@jupyter-widgets/controls",
      "_model_module_version": "1.5.0",
      "_model_name": "HTMLModel",
      "_view_count": null,
      "_view_module": "@jupyter-widgets/controls",
      "_view_module_version": "1.5.0",
      "_view_name": "HTMLView",
      "description": "",
      "description_tooltip": null,
      "layout": "IPY_MODEL_8a957889d4974ed7a1a5614c400606a6",
      "placeholder": "​",
      "style": "IPY_MODEL_ea3f391b9b634821942b73bf2e7af252",
      "value": " 170499072/? [00:07&lt;00:00, 22094841.73it/s]"
     }
    },
    "4739062422164f69b0f6a57b9bbe0210": {
     "model_module": "@jupyter-widgets/base",
     "model_name": "LayoutModel",
     "state": {
      "_model_module": "@jupyter-widgets/base",
      "_model_module_version": "1.2.0",
      "_model_name": "LayoutModel",
      "_view_count": null,
      "_view_module": "@jupyter-widgets/base",
      "_view_module_version": "1.2.0",
      "_view_name": "LayoutView",
      "align_content": null,
      "align_items": null,
      "align_self": null,
      "border": null,
      "bottom": null,
      "display": null,
      "flex": null,
      "flex_flow": null,
      "grid_area": null,
      "grid_auto_columns": null,
      "grid_auto_flow": null,
      "grid_auto_rows": null,
      "grid_column": null,
      "grid_gap": null,
      "grid_row": null,
      "grid_template_areas": null,
      "grid_template_columns": null,
      "grid_template_rows": null,
      "height": null,
      "justify_content": null,
      "justify_items": null,
      "left": null,
      "margin": null,
      "max_height": null,
      "max_width": null,
      "min_height": null,
      "min_width": null,
      "object_fit": null,
      "object_position": null,
      "order": null,
      "overflow": null,
      "overflow_x": null,
      "overflow_y": null,
      "padding": null,
      "right": null,
      "top": null,
      "visibility": null,
      "width": null
     }
    },
    "734201c3034f4df68b1d67e82e9a2741": {
     "model_module": "@jupyter-widgets/controls",
     "model_name": "ProgressStyleModel",
     "state": {
      "_model_module": "@jupyter-widgets/controls",
      "_model_module_version": "1.5.0",
      "_model_name": "ProgressStyleModel",
      "_view_count": null,
      "_view_module": "@jupyter-widgets/base",
      "_view_module_version": "1.2.0",
      "_view_name": "StyleView",
      "bar_color": null,
      "description_width": "initial"
     }
    },
    "74027953640945afa6df0d8b8148dd80": {
     "model_module": "@jupyter-widgets/controls",
     "model_name": "FloatProgressModel",
     "state": {
      "_dom_classes": [],
      "_model_module": "@jupyter-widgets/controls",
      "_model_module_version": "1.5.0",
      "_model_name": "FloatProgressModel",
      "_view_count": null,
      "_view_module": "@jupyter-widgets/controls",
      "_view_module_version": "1.5.0",
      "_view_name": "ProgressView",
      "bar_style": "success",
      "description": "",
      "description_tooltip": null,
      "layout": "IPY_MODEL_4739062422164f69b0f6a57b9bbe0210",
      "max": 170498071,
      "min": 0,
      "orientation": "horizontal",
      "style": "IPY_MODEL_734201c3034f4df68b1d67e82e9a2741",
      "value": 170498071
     }
    },
    "8a957889d4974ed7a1a5614c400606a6": {
     "model_module": "@jupyter-widgets/base",
     "model_name": "LayoutModel",
     "state": {
      "_model_module": "@jupyter-widgets/base",
      "_model_module_version": "1.2.0",
      "_model_name": "LayoutModel",
      "_view_count": null,
      "_view_module": "@jupyter-widgets/base",
      "_view_module_version": "1.2.0",
      "_view_name": "LayoutView",
      "align_content": null,
      "align_items": null,
      "align_self": null,
      "border": null,
      "bottom": null,
      "display": null,
      "flex": null,
      "flex_flow": null,
      "grid_area": null,
      "grid_auto_columns": null,
      "grid_auto_flow": null,
      "grid_auto_rows": null,
      "grid_column": null,
      "grid_gap": null,
      "grid_row": null,
      "grid_template_areas": null,
      "grid_template_columns": null,
      "grid_template_rows": null,
      "height": null,
      "justify_content": null,
      "justify_items": null,
      "left": null,
      "margin": null,
      "max_height": null,
      "max_width": null,
      "min_height": null,
      "min_width": null,
      "object_fit": null,
      "object_position": null,
      "order": null,
      "overflow": null,
      "overflow_x": null,
      "overflow_y": null,
      "padding": null,
      "right": null,
      "top": null,
      "visibility": null,
      "width": null
     }
    },
    "ea3f391b9b634821942b73bf2e7af252": {
     "model_module": "@jupyter-widgets/controls",
     "model_name": "DescriptionStyleModel",
     "state": {
      "_model_module": "@jupyter-widgets/controls",
      "_model_module_version": "1.5.0",
      "_model_name": "DescriptionStyleModel",
      "_view_count": null,
      "_view_module": "@jupyter-widgets/base",
      "_view_module_version": "1.2.0",
      "_view_name": "StyleView",
      "description_width": ""
     }
    },
    "f42d698c3fca442d99f0d6d54c9255a1": {
     "model_module": "@jupyter-widgets/controls",
     "model_name": "HBoxModel",
     "state": {
      "_dom_classes": [],
      "_model_module": "@jupyter-widgets/controls",
      "_model_module_version": "1.5.0",
      "_model_name": "HBoxModel",
      "_view_count": null,
      "_view_module": "@jupyter-widgets/controls",
      "_view_module_version": "1.5.0",
      "_view_name": "HBoxView",
      "box_style": "",
      "children": [
       "IPY_MODEL_74027953640945afa6df0d8b8148dd80",
       "IPY_MODEL_40c79e7cd83a4828bd1e2f8fa47b959e"
      ],
      "layout": "IPY_MODEL_2ead369644c84c89a39b69df2bb09745"
     }
    }
   }
  }
 },
 "nbformat": 4,
 "nbformat_minor": 4
}

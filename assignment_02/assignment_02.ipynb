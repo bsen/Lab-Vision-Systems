{
 "cells": [
  {
   "cell_type": "code",
   "execution_count": 126,
   "id": "b1a8a89d-0d32-4d75-b445-1055dd3277e0",
   "metadata": {},
   "outputs": [],
   "source": [
    "import numpy as np\n",
    "\n",
    "import torch\n",
    "import torch.nn as nn\n",
    "import torch.optim as optim\n",
    "import torch.nn.functional as F\n",
    "\n",
    "import torchvision\n",
    "import torchvision.transforms as transforms\n",
    "\n",
    "import optuna\n",
    "from optuna.trial import TrialState\n",
    "\n",
    "%matplotlib inline\n",
    "import matplotlib.pyplot as plt\n",
    "\n",
    "from tqdm.notebook import trange"
   ]
  },
  {
   "cell_type": "code",
   "execution_count": 127,
   "id": "16338012-6f59-4787-a7bf-928222749bc6",
   "metadata": {},
   "outputs": [
    {
     "name": "stdout",
     "output_type": "stream",
     "text": [
      "Files already downloaded and verified\n",
      "Files already downloaded and verified\n"
     ]
    }
   ],
   "source": [
    "BATCH_SIZE = 64\n",
    "\n",
    "trainset = torchvision.datasets.CIFAR10(root='./data', train=True, download=True, transform=transforms.ToTensor())\n",
    "trainloader = torch.utils.data.DataLoader(trainset, batch_size=BATCH_SIZE, shuffle=True, num_workers=2)\n",
    "\n",
    "validset = torchvision.datasets.CIFAR10(root='./data', train=False, download=True, transform=transforms.ToTensor())\n",
    "validloader = torch.utils.data.DataLoader(testset, batch_size=BATCH_SIZE, shuffle=False, num_workers=2)\n",
    "\n",
    "classes = ('plane', 'car', 'bird', 'cat', 'deer', 'dog', 'frog', 'horse', 'ship', 'truck')"
   ]
  },
  {
   "cell_type": "code",
   "execution_count": 128,
   "id": "3a8d3807-684a-4e9a-9894-2263b5a5532c",
   "metadata": {},
   "outputs": [],
   "source": [
    "device = torch.device(\"cuda\" if torch.cuda.is_available() else \"cpu\")"
   ]
  },
  {
   "cell_type": "code",
   "execution_count": 129,
   "id": "a08b22a8-f0c9-4887-ab17-8911b318b2eb",
   "metadata": {},
   "outputs": [],
   "source": [
    "def define_model(trial):\n",
    "    layers = []\n",
    "    \n",
    "    in_features = 3*32*32\n",
    "    # We optimize the number of hidden units in the hidden layer\n",
    "    out_features = trial.suggest_int(\"n_units\", 128, 512)\n",
    "\n",
    "    layers.append(nn.Linear(in_features, out_features))\n",
    "    layers.append(nn.ReLU())\n",
    "\n",
    "    layers.append(nn.Linear(out_features, len(classes)))\n",
    "    layers.append(nn.LogSoftmax(dim=1))\n",
    "\n",
    "    return nn.Sequential(*layers)"
   ]
  },
  {
   "cell_type": "code",
   "execution_count": 130,
   "id": "1cc79b4f-5cc8-4a28-855b-f1aa926bdaf9",
   "metadata": {},
   "outputs": [],
   "source": [
    "EPOCHS = 40\n",
    "TRAIN_EXAMPLES_LIMIT = BATCH_SIZE * 40\n",
    "VALID_EXAMPLES_LIMIT = BATCH_SIZE * 20\n",
    "\n",
    "def objective(trial):\n",
    "\n",
    "    # Generate the model.\n",
    "    model = define_model(trial).to(device)\n",
    "\n",
    "    # # We optimize the learning rate\n",
    "    lr = trial.suggest_float(\"lr\", 1e-5, 1e-1, log=True)\n",
    "    optimizer = optim.SGD(model.parameters(), lr=lr, momentum=0.9)\n",
    "\n",
    "    # Training of the model.\n",
    "    for epoch in range(EPOCHS):\n",
    "        model.train()\n",
    "        for batch_idx, (data, target) in enumerate(trainloader):\n",
    "            # Limiting training data for faster epochs.\n",
    "            if batch_idx * BATCH_SIZE >= TRAIN_EXAMPLES_LIMIT:\n",
    "                break\n",
    "\n",
    "            data, target = data.view(data.size(0), -1).to(device), target.to(device)\n",
    "\n",
    "            optimizer.zero_grad()\n",
    "            output = model(data)\n",
    "            loss = F.nll_loss(output, target)\n",
    "            loss.backward()\n",
    "            optimizer.step()\n",
    "\n",
    "        # Validation of the model.\n",
    "        model.eval()\n",
    "        correct = 0\n",
    "        with torch.no_grad():\n",
    "            for batch_idx, (data, target) in enumerate(validloader):\n",
    "                # Limiting validation data.\n",
    "                if batch_idx * BATCH_SIZE >= VALID_EXAMPLES_LIMIT:\n",
    "                    break\n",
    "                data, target = data.view(data.size(0), -1).to(device), target.to(device)\n",
    "                output = model(data)\n",
    "                # Get the index of the max log-probability.\n",
    "                pred = output.argmax(dim=1, keepdim=True)\n",
    "                correct += pred.eq(target.view_as(pred)).sum().item()\n",
    "\n",
    "        accuracy = correct / min(len(validloader.dataset), VALID_EXAMPLES_LIMIT)\n",
    "\n",
    "        trial.report(accuracy, epoch)\n",
    "\n",
    "        # Handle pruning based on the intermediate value.\n",
    "        if trial.should_prune():\n",
    "            raise optuna.exceptions.TrialPruned()\n",
    "\n",
    "    return accuracy"
   ]
  },
  {
   "cell_type": "code",
   "execution_count": 131,
   "id": "3d259a14-0950-4b96-b5e3-584ddbdfeef2",
   "metadata": {},
   "outputs": [
    {
     "name": "stderr",
     "output_type": "stream",
     "text": [
      "\u001b[32m[I 2021-05-29 16:42:33,670]\u001b[0m A new study created in memory with name: no-name-fd14d458-810b-446b-a7e1-f59eb3109a77\u001b[0m\n",
      "\u001b[32m[I 2021-05-29 16:42:46,175]\u001b[0m Trial 0 finished with value: 0.41796875 and parameters: {'n_units': 228, 'lr': 0.008823461952871115}. Best is trial 0 with value: 0.41796875.\u001b[0m\n",
      "\u001b[32m[I 2021-05-29 16:42:58,621]\u001b[0m Trial 1 finished with value: 0.16953125 and parameters: {'n_units': 310, 'lr': 2.303862410921136e-05}. Best is trial 0 with value: 0.41796875.\u001b[0m\n",
      "\u001b[32m[I 2021-05-29 16:43:11,054]\u001b[0m Trial 2 finished with value: 0.37734375 and parameters: {'n_units': 192, 'lr': 0.013630516495498275}. Best is trial 0 with value: 0.41796875.\u001b[0m\n",
      "\u001b[32m[I 2021-05-29 16:43:23,559]\u001b[0m Trial 3 finished with value: 0.41875 and parameters: {'n_units': 298, 'lr': 0.0037816640943820075}. Best is trial 3 with value: 0.41875.\u001b[0m\n",
      "\u001b[32m[I 2021-05-29 16:43:36,040]\u001b[0m Trial 4 finished with value: 0.371875 and parameters: {'n_units': 322, 'lr': 0.0009894047376253808}. Best is trial 3 with value: 0.41875.\u001b[0m\n",
      "\u001b[32m[I 2021-05-29 16:43:36,666]\u001b[0m Trial 5 pruned. \u001b[0m\n",
      "\u001b[32m[I 2021-05-29 16:43:36,985]\u001b[0m Trial 6 pruned. \u001b[0m\n",
      "\u001b[32m[I 2021-05-29 16:43:37,923]\u001b[0m Trial 7 pruned. \u001b[0m\n",
      "\u001b[32m[I 2021-05-29 16:43:38,239]\u001b[0m Trial 8 pruned. \u001b[0m\n",
      "\u001b[32m[I 2021-05-29 16:43:38,864]\u001b[0m Trial 9 pruned. \u001b[0m\n",
      "\u001b[32m[I 2021-05-29 16:43:39,208]\u001b[0m Trial 10 pruned. \u001b[0m\n",
      "\u001b[32m[I 2021-05-29 16:43:39,529]\u001b[0m Trial 11 pruned. \u001b[0m\n",
      "\u001b[32m[I 2021-05-29 16:43:39,856]\u001b[0m Trial 12 pruned. \u001b[0m\n",
      "\u001b[32m[I 2021-05-29 16:43:40,181]\u001b[0m Trial 13 pruned. \u001b[0m\n",
      "\u001b[32m[I 2021-05-29 16:43:40,503]\u001b[0m Trial 14 pruned. \u001b[0m\n",
      "\u001b[32m[I 2021-05-29 16:43:41,124]\u001b[0m Trial 15 pruned. \u001b[0m\n",
      "\u001b[32m[I 2021-05-29 16:43:42,690]\u001b[0m Trial 16 pruned. \u001b[0m\n",
      "\u001b[32m[I 2021-05-29 16:43:43,006]\u001b[0m Trial 17 pruned. \u001b[0m\n",
      "\u001b[32m[I 2021-05-29 16:43:43,326]\u001b[0m Trial 18 pruned. \u001b[0m\n",
      "\u001b[32m[I 2021-05-29 16:43:43,651]\u001b[0m Trial 19 pruned. \u001b[0m\n",
      "\u001b[32m[I 2021-05-29 16:43:47,089]\u001b[0m Trial 20 pruned. \u001b[0m\n",
      "\u001b[32m[I 2021-05-29 16:43:47,703]\u001b[0m Trial 21 pruned. \u001b[0m\n",
      "\u001b[32m[I 2021-05-29 16:43:48,638]\u001b[0m Trial 22 pruned. \u001b[0m\n",
      "\u001b[32m[I 2021-05-29 16:43:50,199]\u001b[0m Trial 23 pruned. \u001b[0m\n",
      "\u001b[32m[I 2021-05-29 16:43:51,771]\u001b[0m Trial 24 pruned. \u001b[0m\n",
      "\u001b[32m[I 2021-05-29 16:43:52,092]\u001b[0m Trial 25 pruned. \u001b[0m\n",
      "\u001b[32m[I 2021-05-29 16:43:52,413]\u001b[0m Trial 26 pruned. \u001b[0m\n",
      "\u001b[32m[I 2021-05-29 16:43:53,054]\u001b[0m Trial 27 pruned. \u001b[0m\n",
      "\u001b[32m[I 2021-05-29 16:43:53,372]\u001b[0m Trial 28 pruned. \u001b[0m\n",
      "\u001b[32m[I 2021-05-29 16:43:54,002]\u001b[0m Trial 29 pruned. \u001b[0m\n",
      "\u001b[32m[I 2021-05-29 16:43:54,317]\u001b[0m Trial 30 pruned. \u001b[0m\n",
      "\u001b[32m[I 2021-05-29 16:43:54,632]\u001b[0m Trial 31 pruned. \u001b[0m\n",
      "\u001b[32m[I 2021-05-29 16:43:54,950]\u001b[0m Trial 32 pruned. \u001b[0m\n",
      "\u001b[32m[I 2021-05-29 16:43:55,277]\u001b[0m Trial 33 pruned. \u001b[0m\n",
      "\u001b[32m[I 2021-05-29 16:44:07,878]\u001b[0m Trial 34 finished with value: 0.43046875 and parameters: {'n_units': 288, 'lr': 0.00819742942444019}. Best is trial 34 with value: 0.43046875.\u001b[0m\n",
      "\u001b[32m[I 2021-05-29 16:44:20,393]\u001b[0m Trial 35 finished with value: 0.42265625 and parameters: {'n_units': 292, 'lr': 0.009175892595872842}. Best is trial 34 with value: 0.43046875.\u001b[0m\n",
      "\u001b[32m[I 2021-05-29 16:44:21,026]\u001b[0m Trial 36 pruned. \u001b[0m\n",
      "\u001b[32m[I 2021-05-29 16:44:21,349]\u001b[0m Trial 37 pruned. \u001b[0m\n",
      "\u001b[32m[I 2021-05-29 16:44:22,584]\u001b[0m Trial 38 pruned. \u001b[0m\n",
      "\u001b[32m[I 2021-05-29 16:44:28,542]\u001b[0m Trial 39 pruned. \u001b[0m\n",
      "\u001b[32m[I 2021-05-29 16:44:29,167]\u001b[0m Trial 40 pruned. \u001b[0m\n",
      "\u001b[32m[I 2021-05-29 16:44:29,489]\u001b[0m Trial 41 pruned. \u001b[0m\n",
      "\u001b[32m[I 2021-05-29 16:44:41,994]\u001b[0m Trial 42 finished with value: 0.4328125 and parameters: {'n_units': 190, 'lr': 0.004713903960705496}. Best is trial 42 with value: 0.4328125.\u001b[0m\n",
      "\u001b[32m[I 2021-05-29 16:44:42,310]\u001b[0m Trial 43 pruned. \u001b[0m\n",
      "\u001b[32m[I 2021-05-29 16:44:42,629]\u001b[0m Trial 44 pruned. \u001b[0m\n",
      "\u001b[32m[I 2021-05-29 16:44:43,576]\u001b[0m Trial 45 pruned. \u001b[0m\n",
      "\u001b[32m[I 2021-05-29 16:44:43,901]\u001b[0m Trial 46 pruned. \u001b[0m\n",
      "\u001b[32m[I 2021-05-29 16:44:44,218]\u001b[0m Trial 47 pruned. \u001b[0m\n",
      "\u001b[32m[I 2021-05-29 16:44:44,858]\u001b[0m Trial 48 pruned. \u001b[0m\n",
      "\u001b[32m[I 2021-05-29 16:44:45,183]\u001b[0m Trial 49 pruned. \u001b[0m\n",
      "\u001b[32m[I 2021-05-29 16:44:45,504]\u001b[0m Trial 50 pruned. \u001b[0m\n",
      "\u001b[32m[I 2021-05-29 16:44:48,011]\u001b[0m Trial 51 pruned. \u001b[0m\n",
      "\u001b[32m[I 2021-05-29 16:44:48,952]\u001b[0m Trial 52 pruned. \u001b[0m\n",
      "\u001b[32m[I 2021-05-29 16:44:49,266]\u001b[0m Trial 53 pruned. \u001b[0m\n",
      "\u001b[32m[I 2021-05-29 16:44:49,594]\u001b[0m Trial 54 pruned. \u001b[0m\n",
      "\u001b[32m[I 2021-05-29 16:44:50,538]\u001b[0m Trial 55 pruned. \u001b[0m\n",
      "\u001b[32m[I 2021-05-29 16:44:50,859]\u001b[0m Trial 56 pruned. \u001b[0m\n",
      "\u001b[32m[I 2021-05-29 16:44:51,174]\u001b[0m Trial 57 pruned. \u001b[0m\n",
      "\u001b[32m[I 2021-05-29 16:44:51,813]\u001b[0m Trial 58 pruned. \u001b[0m\n",
      "\u001b[32m[I 2021-05-29 16:44:52,131]\u001b[0m Trial 59 pruned. \u001b[0m\n",
      "\u001b[32m[I 2021-05-29 16:44:52,452]\u001b[0m Trial 60 pruned. \u001b[0m\n",
      "\u001b[32m[I 2021-05-29 16:44:52,781]\u001b[0m Trial 61 pruned. \u001b[0m\n",
      "\u001b[32m[I 2021-05-29 16:44:53,104]\u001b[0m Trial 62 pruned. \u001b[0m\n",
      "\u001b[32m[I 2021-05-29 16:44:53,423]\u001b[0m Trial 63 pruned. \u001b[0m\n",
      "\u001b[32m[I 2021-05-29 16:44:53,740]\u001b[0m Trial 64 pruned. \u001b[0m\n",
      "\u001b[32m[I 2021-05-29 16:44:54,063]\u001b[0m Trial 65 pruned. \u001b[0m\n",
      "\u001b[32m[I 2021-05-29 16:44:54,999]\u001b[0m Trial 66 pruned. \u001b[0m\n",
      "\u001b[32m[I 2021-05-29 16:44:55,315]\u001b[0m Trial 67 pruned. \u001b[0m\n",
      "\u001b[32m[I 2021-05-29 16:44:55,646]\u001b[0m Trial 68 pruned. \u001b[0m\n",
      "\u001b[32m[I 2021-05-29 16:44:55,967]\u001b[0m Trial 69 pruned. \u001b[0m\n",
      "\u001b[32m[I 2021-05-29 16:44:56,600]\u001b[0m Trial 70 pruned. \u001b[0m\n",
      "\u001b[32m[I 2021-05-29 16:44:56,923]\u001b[0m Trial 71 pruned. \u001b[0m\n",
      "\u001b[32m[I 2021-05-29 16:44:57,251]\u001b[0m Trial 72 pruned. \u001b[0m\n",
      "\u001b[32m[I 2021-05-29 16:44:57,560]\u001b[0m Trial 73 pruned. \u001b[0m\n",
      "\u001b[32m[I 2021-05-29 16:44:58,820]\u001b[0m Trial 74 pruned. \u001b[0m\n",
      "\u001b[32m[I 2021-05-29 16:44:59,142]\u001b[0m Trial 75 pruned. \u001b[0m\n",
      "\u001b[32m[I 2021-05-29 16:44:59,481]\u001b[0m Trial 76 pruned. \u001b[0m\n",
      "\u001b[32m[I 2021-05-29 16:44:59,806]\u001b[0m Trial 77 pruned. \u001b[0m\n",
      "\u001b[32m[I 2021-05-29 16:45:00,132]\u001b[0m Trial 78 pruned. \u001b[0m\n",
      "\u001b[32m[I 2021-05-29 16:45:00,447]\u001b[0m Trial 79 pruned. \u001b[0m\n",
      "\u001b[32m[I 2021-05-29 16:45:00,780]\u001b[0m Trial 80 pruned. \u001b[0m\n",
      "\u001b[32m[I 2021-05-29 16:45:01,108]\u001b[0m Trial 81 pruned. \u001b[0m\n",
      "\u001b[32m[I 2021-05-29 16:45:01,432]\u001b[0m Trial 82 pruned. \u001b[0m\n",
      "\u001b[32m[I 2021-05-29 16:45:02,700]\u001b[0m Trial 83 pruned. \u001b[0m\n",
      "\u001b[32m[I 2021-05-29 16:45:03,329]\u001b[0m Trial 84 pruned. \u001b[0m\n",
      "\u001b[32m[I 2021-05-29 16:45:03,653]\u001b[0m Trial 85 pruned. \u001b[0m\n",
      "\u001b[32m[I 2021-05-29 16:45:16,126]\u001b[0m Trial 86 finished with value: 0.42109375 and parameters: {'n_units': 303, 'lr': 0.004658068553767151}. Best is trial 42 with value: 0.4328125.\u001b[0m\n",
      "\u001b[32m[I 2021-05-29 16:45:16,452]\u001b[0m Trial 87 pruned. \u001b[0m\n",
      "\u001b[32m[I 2021-05-29 16:45:17,400]\u001b[0m Trial 88 pruned. \u001b[0m\n",
      "\u001b[32m[I 2021-05-29 16:45:17,725]\u001b[0m Trial 89 pruned. \u001b[0m\n",
      "\u001b[32m[I 2021-05-29 16:45:18,358]\u001b[0m Trial 90 pruned. \u001b[0m\n",
      "\u001b[32m[I 2021-05-29 16:45:18,681]\u001b[0m Trial 91 pruned. \u001b[0m\n",
      "\u001b[32m[I 2021-05-29 16:45:19,014]\u001b[0m Trial 92 pruned. \u001b[0m\n",
      "\u001b[32m[I 2021-05-29 16:45:19,335]\u001b[0m Trial 93 pruned. \u001b[0m\n",
      "\u001b[32m[I 2021-05-29 16:45:20,282]\u001b[0m Trial 94 pruned. \u001b[0m\n",
      "\u001b[32m[I 2021-05-29 16:45:22,458]\u001b[0m Trial 95 pruned. \u001b[0m\n",
      "\u001b[32m[I 2021-05-29 16:45:22,782]\u001b[0m Trial 96 pruned. \u001b[0m\n",
      "\u001b[32m[I 2021-05-29 16:45:23,107]\u001b[0m Trial 97 pruned. \u001b[0m\n",
      "\u001b[32m[I 2021-05-29 16:45:23,434]\u001b[0m Trial 98 pruned. \u001b[0m\n",
      "\u001b[32m[I 2021-05-29 16:45:23,756]\u001b[0m Trial 99 pruned. \u001b[0m\n"
     ]
    },
    {
     "name": "stdout",
     "output_type": "stream",
     "text": [
      "Study statistics: \n",
      "  Number of finished trials:  100\n",
      "  Number of pruned trials:  91\n",
      "  Number of complete trials:  9\n",
      "Best trial:\n",
      "  Value:  0.4328125\n",
      "  Params: \n",
      "    n_units: 190\n",
      "    lr: 0.004713903960705496\n"
     ]
    }
   ],
   "source": [
    "study = optuna.create_study(direction=\"maximize\")\n",
    "study.optimize(objective, n_trials=100)\n",
    "\n",
    "pruned_trials = study.get_trials(deepcopy=False, states=[TrialState.PRUNED])\n",
    "complete_trials = study.get_trials(deepcopy=False, states=[TrialState.COMPLETE])\n",
    "\n",
    "print(\"Study statistics: \")\n",
    "print(\"  Number of finished trials: \", len(study.trials))\n",
    "print(\"  Number of pruned trials: \", len(pruned_trials))\n",
    "print(\"  Number of complete trials: \", len(complete_trials))\n",
    "\n",
    "print(\"Best trial:\")\n",
    "trial = study.best_trial\n",
    "\n",
    "print(\"  Value: \", trial.value)\n",
    "\n",
    "print(\"  Params: \")\n",
    "for key, value in trial.params.items():\n",
    "    print(\"    {}: {}\".format(key, value))"
   ]
  },
  {
   "cell_type": "code",
   "execution_count": 132,
   "id": "bd75e4f0-7fac-4e5f-afb8-16cddd271028",
   "metadata": {},
   "outputs": [],
   "source": [
    "class LogisticRegressionModel(nn.Module):\n",
    "    def __init__(self, input_dim=3*32*32, hidden_dim=190, output_dim=10):\n",
    "        super().__init__()\n",
    "        self.model = nn.Sequential(\n",
    "                nn.Linear(input_dim, hidden_dim),\n",
    "                nn.ReLU(),\n",
    "                nn.Linear(hidden_dim, output_dim),\n",
    "                nn.LogSoftmax(dim=1)\n",
    "            )\n",
    "    \n",
    "    def forward(self, x):\n",
    "        x_flat = x.view(x.size(0), -1)\n",
    "        out = self.model(x_flat)\n",
    "        return out"
   ]
  },
  {
   "cell_type": "code",
   "execution_count": 133,
   "id": "6d30c4c1-7c34-44bf-82ba-8fb1dd1af1c0",
   "metadata": {},
   "outputs": [
    {
     "data": {
      "application/vnd.jupyter.widget-view+json": {
       "model_id": "63b10bf628954bb280b312641192d102",
       "version_major": 2,
       "version_minor": 0
      },
      "text/plain": [
       "  0%|          | 0/40 [00:00<?, ?it/s]"
      ]
     },
     "metadata": {},
     "output_type": "display_data"
    }
   ],
   "source": [
    "model = LogisticRegressionModel()\n",
    "model = model.to(device)\n",
    "\n",
    "lr = 0.004713903960705496\n",
    "optimizer = optim.SGD(model.parameters(), lr=lr, momentum=0.9)\n",
    "\n",
    "N_EPOCHS = 40\n",
    "train_loss_hist = []\n",
    "valid_loss_hist = []\n",
    "\n",
    "for epoch in trange(N_EPOCHS):\n",
    "    loss_list = []\n",
    "    for imgs, labels in trainloader:\n",
    "        \n",
    "        #everything needs to be on the same device\n",
    "        imgs, labels = imgs.to(device), labels.to(device)\n",
    "        \n",
    "        # forward pass\n",
    "        pred_labels = model(imgs)\n",
    "    \n",
    "        # computing error\n",
    "        loss = F.nll_loss(pred_labels, labels)\n",
    "        loss_list.append(loss.item())\n",
    "\n",
    "        # removing accumulated gradients\n",
    "        optimizer.zero_grad()\n",
    "        loss.backward()\n",
    "        optimizer.step()\n",
    "            \n",
    "    train_loss_hist.append(np.mean(loss_list))\n",
    "    \n",
    "    loss_list = []\n",
    "    with torch.no_grad():\n",
    "        for imgs, labels in validloader:\n",
    "            imgs, labels = imgs.to(device), labels.to(device)\n",
    "            pred_labels = model(imgs)\n",
    "            loss = F.nll_loss(pred_labels, labels)\n",
    "            loss_list.append(loss.item())\n",
    "\n",
    "    valid_loss_hist.append(np.mean(loss_list))"
   ]
  },
  {
   "cell_type": "code",
   "execution_count": 134,
   "id": "13c665e4-ecb9-42fc-816d-654c6935fccf",
   "metadata": {},
   "outputs": [
    {
     "data": {
      "image/png": "[encoded data removed]",
      "text/plain": [
       "<Figure size 432x288 with 1 Axes>"
      ]
     },
     "metadata": {
      "needs_background": "light"
     },
     "output_type": "display_data"
    }
   ],
   "source": [
    "x = np.arange(len(train_loss_hist))\n",
    "plt.plot(x, train_loss_hist)\n",
    "plt.plot(x, valid_loss_hist)\n",
    "plt.grid()\n",
    "plt.xlabel(\"Epoch\")\n",
    "plt.ylabel(\"Loss\")\n",
    "plt.title(\"Learning Progress\")\n",
    "plt.show()"
   ]
  },
  {
   "cell_type": "code",
   "execution_count": 160,
   "id": "a2912708-7104-44ad-9422-a4dc7be8d92f",
   "metadata": {},
   "outputs": [],
   "source": [
    "torch.save(model.state_dict(), './log_reg_cifar10.pth')"
   ]
  },
  {
   "cell_type": "code",
   "execution_count": 163,
   "id": "7dbc24e7-9dc3-4b69-86bc-a525f5815cae",
   "metadata": {},
   "outputs": [
    {
     "data": {
      "text/plain": [
       "LogisticRegressionModel(\n",
       "  (model): Sequential(\n",
       "    (0): Linear(in_features=3072, out_features=190, bias=True)\n",
       "    (1): ReLU()\n",
       "    (2): Linear(in_features=190, out_features=10, bias=True)\n",
       "    (3): LogSoftmax(dim=1)\n",
       "  )\n",
       ")"
      ]
     },
     "execution_count": 163,
     "metadata": {},
     "output_type": "execute_result"
    }
   ],
   "source": [
    "model = LogisticRegressionModel()\n",
    "model.load_state_dict(torch.load('.//log_reg_cifar10.pth'))\n",
    "model.to(device)"
   ]
  },
  {
   "cell_type": "code",
   "execution_count": 164,
   "id": "529bf6dc-cb54-4e6c-8eec-5d466a39d0f7",
   "metadata": {},
   "outputs": [
    {
     "data": {
      "image/png": "[encoded data removed]",
      "text/plain": [
       "<Figure size 576x432 with 1 Axes>"
      ]
     },
     "metadata": {
      "needs_background": "light"
     },
     "output_type": "display_data"
    }
   ],
   "source": [
    "import numpy as np\n",
    "import matplotlib\n",
    "import matplotlib.pyplot as plt\n",
    "\n",
    "heat_map = np.zeros((10, 10))\n",
    "with torch.no_grad():\n",
    "    for imgs, labels in validloader:\n",
    "        imgs, labels = imgs.to(device), labels.to(device)\n",
    "        pred_labels = model(imgs)\n",
    "        pred = pred_labels.argmax(dim=1)\n",
    "        for i, j in zip(pred.tolist(), labels.tolist()):\n",
    "            heat_map[i][j] += 1\n",
    "\n",
    "\n",
    "fig, ax = plt.subplots(figsize=(8, 6))\n",
    "im = ax.imshow(heat_map)\n",
    "\n",
    "\n",
    "ax.set_xticks(np.arange(len(classes)))\n",
    "ax.set_yticks(np.arange(len(classes)))\n",
    "ax.set_xticklabels(classes)\n",
    "ax.set_yticklabels(classes)\n",
    "\n",
    "for i in range(len(classes)):\n",
    "    for j in range(len(classes)):\n",
    "        ax.text(j, i, heat_map[i][j], ha=\"center\", va=\"center\", color=\"w\")\n",
    "\n",
    "fig.tight_layout()\n",
    "plt.show()"
   ]
  }
 ],
 "metadata": {
  "kernelspec": {
   "display_name": "Python 3",
   "language": "python",
   "name": "python3"
  },
  "language_info": {
   "codemirror_mode": {
    "name": "ipython",
    "version": 3
   },
   "file_extension": ".py",
   "mimetype": "text/x-python",
   "name": "python",
   "nbconvert_exporter": "python",
   "pygments_lexer": "ipython3",
   "version": "3.9.2"
  }
 },
 "nbformat": 4,
 "nbformat_minor": 5
}

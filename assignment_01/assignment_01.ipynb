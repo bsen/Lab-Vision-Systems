{
 "cells": [
  {
   "cell_type": "code",
   "execution_count": 1,
   "id": "f28bc9e7-064f-4d40-8ad5-ee4f9ececa9a",
   "metadata": {},
   "outputs": [],
   "source": [
    "import numpy as np\n",
    "\n",
    "import torchvision\n",
    "import torchvision.transforms as transforms\n",
    "\n",
    "import torch\n",
    "import torch.nn.functional as F\n",
    "from torch.utils.data import DataLoader\n",
    "\n",
    "import matplotlib.pyplot as plt\n",
    "%matplotlib inline"
   ]
  },
  {
   "cell_type": "code",
   "execution_count": 2,
   "id": "060471ff-701d-4e27-9c5c-e516c9a2eabb",
   "metadata": {},
   "outputs": [],
   "source": [
    "t = transforms.Compose([transforms.ToTensor(), \n",
    "                        transforms.Lambda(lambda img: img.squeeze().reshape(784))])\n",
    "\n",
    "t_target = lambda label: F.one_hot(torch.tensor(label), num_classes=10)\n",
    "\n",
    "train_dataset = torchvision.datasets.MNIST(root='./data', train=True, download=True, transform=t, target_transform=t_target)\n",
    "test_dataset = torchvision.datasets.MNIST(root='./data', train=False, download=True, transform=t, target_transform=t_target)"
   ]
  },
  {
   "cell_type": "code",
   "execution_count": 3,
   "id": "0565d50e-8190-40e8-ad40-da17c20a3bd2",
   "metadata": {},
   "outputs": [],
   "source": [
    "train_dataloader = DataLoader(train_dataset, batch_size=20, shuffle=True)\n",
    "test_dataloader = DataLoader(test_dataset, batch_size=20, shuffle=True)"
   ]
  },
  {
   "cell_type": "code",
   "execution_count": 4,
   "id": "fe321461-de04-41b5-b350-bed1c8539d97",
   "metadata": {},
   "outputs": [
    {
     "name": "stdout",
     "output_type": "stream",
     "text": [
      "Images batch shape: torch.Size([20, 784])\n",
      "Labels batch shape: torch.Size([20, 10])\n"
     ]
    },
    {
     "data": {
      "image/png": "[encoded data removed]",
      "text/plain": [
       "<Figure size 432x288 with 1 Axes>"
      ]
     },
     "metadata": {
      "needs_background": "light"
     },
     "output_type": "display_data"
    },
    {
     "name": "stdout",
     "output_type": "stream",
     "text": [
      "Label: tensor([0, 0, 1, 0, 0, 0, 0, 0, 0, 0])\n"
     ]
    }
   ],
   "source": [
    "images, labels = next(iter(train_dataloader))\n",
    "print(f\"Images batch shape: {images.size()}\")\n",
    "print(f\"Labels batch shape: {labels.size()}\")\n",
    "img = images[0].reshape((28, 28))\n",
    "label = labels[0]\n",
    "plt.imshow(img, cmap=\"gray\")\n",
    "plt.show()\n",
    "print(f\"Label: {label}\")"
   ]
  },
  {
   "cell_type": "code",
   "execution_count": 5,
   "id": "fb2212e2-c891-43fd-86af-393b4c102263",
   "metadata": {},
   "outputs": [],
   "source": [
    "def sigmoid(z):\n",
    "    return 1/(1+np.exp(-z))\n",
    "\n",
    "def sigmoid_prime(z):\n",
    "    return sigmoid(z) * (1 - sigmoid(z))\n",
    "\n",
    "def softmax(z):\n",
    "    ez = np.exp(z)\n",
    "    sum_ez = np.sum(ez, axis=0)\n",
    "    return ez / sum_ez\n",
    "\n",
    "def softmax_prime(a, y):\n",
    "    return np.sum((a-y).T * (np.diag(a.squeeze()) - np.multiply(a, a.T)), axis=1, keepdims=True)"
   ]
  },
  {
   "cell_type": "code",
   "execution_count": 6,
   "id": "76cb1695-916e-4648-b06e-a1a98ec12814",
   "metadata": {},
   "outputs": [],
   "source": [
    "def train(lr=0.1, epochs=400, print_every=20):\n",
    "    W1 = np.random.uniform(low=-0.5, high=0.5, size=(64, 784))\n",
    "    b1 = np.zeros((64, 1))\n",
    "    W2 = np.random.uniform(low=-0.5, high=0.5, size=(10, 64))\n",
    "    b2 = np.zeros((10, 1))\n",
    "\n",
    "    costs = []\n",
    "    for epoch_num in range(epochs):\n",
    "        cost = 0\n",
    "        for batch_num, (imgs, labels) in enumerate(train_dataloader):\n",
    "            X, Y = imgs.T.numpy(), labels.T.numpy()\n",
    "            m = X.shape[1]\n",
    "\n",
    "            Z1 = np.dot(W1, X) + b1\n",
    "            A1 = sigmoid(Z1)\n",
    "            Z2 = np.dot(W2, A1) + b2\n",
    "            A2 = softmax(Z2)\n",
    "            \n",
    "            cost += np.sum(np.sum((A2-Y)**2, axis=0)/2)/m\n",
    "\n",
    "            dZ2 = []\n",
    "            for i in range(m):\n",
    "                a = A2[:, i].reshape((-1, 1))\n",
    "                y = Y[:, i].reshape((-1, 1))\n",
    "                dZ2.append(softmax_prime(a, y))\n",
    "            dZ2 = np.hstack(dZ2)\n",
    "\n",
    "            dW2 = 1/m * np.dot(dZ2, A1.T)\n",
    "            db2 = 1/m * np.sum(dZ2, axis=1, keepdims=True)\n",
    "            dZ1 = np.dot(W2.T, dZ2) * sigmoid_prime(Z1)\n",
    "            dW1 = 1/m * np.dot(dZ1, X.T)\n",
    "            db1 = 1/m * np.sum(dZ1, axis=1, keepdims=True)\n",
    "\n",
    "            W1 = W1 - lr*dW1\n",
    "            b1 = b1 - lr*db1\n",
    "            W2 = W2 - lr*dW2\n",
    "            b2 = b2 - lr*db2\n",
    "\n",
    "        costs.append(cost)\n",
    "        if (epoch_num+1) % print_every == 0 or epoch_num == 0:\n",
    "            print(f\"Epoch #{epoch_num+1}, Cost:{cost}\")\n",
    "    \n",
    "    return costs, W1, b1, W2, b2"
   ]
  },
  {
   "cell_type": "code",
   "execution_count": 7,
   "id": "ba9a191c-2bb9-43cf-b2b6-1fc3ae03d2f2",
   "metadata": {},
   "outputs": [
    {
     "name": "stdout",
     "output_type": "stream",
     "text": [
      "Epoch #1, Cost:730.4431589148818\n",
      "Epoch #20, Cost:107.29613038626694\n",
      "Epoch #40, Cost:71.74442869530162\n",
      "Epoch #60, Cost:54.44697028493179\n",
      "Epoch #80, Cost:43.53889094449486\n",
      "Epoch #100, Cost:36.11456187799247\n",
      "Epoch #120, Cost:30.74584059288561\n",
      "Epoch #140, Cost:26.557419323849327\n",
      "Epoch #160, Cost:23.400460971389023\n",
      "Epoch #180, Cost:20.946460480507163\n",
      "Epoch #200, Cost:18.97859599895975\n",
      "Epoch #220, Cost:17.390921871049194\n",
      "Epoch #240, Cost:16.045912104376026\n",
      "Epoch #260, Cost:14.884795484144256\n",
      "Epoch #280, Cost:13.92109318311945\n",
      "Epoch #300, Cost:13.094390983017483\n",
      "Epoch #320, Cost:12.375189573967772\n",
      "Epoch #340, Cost:11.789511043096761\n",
      "Epoch #360, Cost:11.270024436780423\n",
      "Epoch #380, Cost:10.758554333481872\n",
      "Epoch #400, Cost:10.286357397576918\n"
     ]
    }
   ],
   "source": [
    "costs, W1, b1, W2, b2 = train()"
   ]
  },
  {
   "cell_type": "code",
   "execution_count": 9,
   "id": "62d119d1-194c-4a23-851d-aa2ef5f506de",
   "metadata": {},
   "outputs": [],
   "source": [
    "import pickle\n",
    "\n",
    "model = {\n",
    "    'W1': W1,\n",
    "    'b1': b1,\n",
    "    'W2': W2,\n",
    "    'b2': b2\n",
    "}\n",
    "\n",
    "with open('./model_mnist_01', 'wb') as fout:\n",
    "    pickle.dump(model, fout)"
   ]
  },
  {
   "cell_type": "code",
   "execution_count": 10,
   "id": "e188da94-e380-4970-b666-70fc226c0afe",
   "metadata": {},
   "outputs": [],
   "source": [
    "with open('./model_mnist_01', 'rb') as fin:\n",
    "    model = pickle.load(fin)"
   ]
  },
  {
   "cell_type": "code",
   "execution_count": 11,
   "id": "6b267749-072a-4d2c-842a-9218958676f5",
   "metadata": {},
   "outputs": [],
   "source": [
    "def predict(X, W1, b1, W2, b2):\n",
    "    Z1 = np.dot(W1, X) + b1\n",
    "    A1 = sigmoid(Z1)\n",
    "    Z2 = np.dot(W2, A1) + b2\n",
    "    A2 = softmax(Z2)\n",
    "    return A2"
   ]
  },
  {
   "cell_type": "code",
   "execution_count": 13,
   "id": "e264b91d-480f-467c-be94-ba9e425984e7",
   "metadata": {},
   "outputs": [
    {
     "name": "stdout",
     "output_type": "stream",
     "text": [
      "Test Accuracy 0.97\n"
     ]
    }
   ],
   "source": [
    "accuracies = []\n",
    "\n",
    "for batch_num, (imgs, labels) in enumerate(test_dataloader):\n",
    "    X, Y = imgs.T.numpy(), labels.T.numpy()\n",
    "    A2 = predict(X, W1, b1, W2, b2)\n",
    "    predicted_labels = A2.argmax(axis=0)\n",
    "    Y = Y.argmax(axis=0)\n",
    "    m = X.shape[1]\n",
    "    accuracy = 1/m * (predicted_labels == Y).sum()\n",
    "    accuracies.append(accuracy)\n",
    "\n",
    "accuracies = np.array(accuracies)\n",
    "print(f'Test Accuracy {accuracies.mean():.2f}')"
   ]
  },
  {
   "cell_type": "code",
   "execution_count": 14,
   "id": "61cef4ee-c4f6-47b5-bdf0-25aae04755ae",
   "metadata": {},
   "outputs": [
    {
     "data": {
      "image/png": "[encoded data removed]",
      "text/plain": [
       "<Figure size 432x288 with 1 Axes>"
      ]
     },
     "metadata": {
      "needs_background": "light"
     },
     "output_type": "display_data"
    }
   ],
   "source": [
    "fig, ax = plt.subplots(nrows=1, ncols=1)\n",
    "ax.plot(costs)\n",
    "ax.set_xlabel('Epochs')\n",
    "ax.set_ylabel('Loss')\n",
    "ax.set_title('Training Loss');"
   ]
  },
  {
   "cell_type": "code",
   "execution_count": 15,
   "id": "5f5ff63b-ebaf-46e7-bce4-1925d31d45a4",
   "metadata": {},
   "outputs": [
    {
     "data": {
      "image/png": "[encoded data removed]",
      "text/plain": [
       "<Figure size 432x288 with 1 Axes>"
      ]
     },
     "metadata": {
      "needs_background": "light"
     },
     "output_type": "display_data"
    },
    {
     "name": "stdout",
     "output_type": "stream",
     "text": [
      "Label: 9\n",
      "Predicted label: 9\n"
     ]
    }
   ],
   "source": [
    "test_range_idx = range(len(test_dataset))\n",
    "idx = np.random.choice(test_range_idx)\n",
    "test_img, test_label = test_dataset[idx]\n",
    "test_img = test_img.numpy().reshape(-1, 1)\n",
    "prediction = predict(test_img, W1, b1, W2, b2)\n",
    "plt.imshow(test_img.reshape((28,28)), cmap=\"gray\")\n",
    "plt.show()\n",
    "print(f\"Label: {test_label.argmax()}\")\n",
    "print(f\"Predicted label: {prediction.argmax()}\")"
   ]
  }
 ],
 "metadata": {
  "kernelspec": {
   "display_name": "Python 3",
   "language": "python",
   "name": "python3"
  },
  "language_info": {
   "codemirror_mode": {
    "name": "ipython",
    "version": 3
   },
   "file_extension": ".py",
   "mimetype": "text/x-python",
   "name": "python",
   "nbconvert_exporter": "python",
   "pygments_lexer": "ipython3",
   "version": "3.9.2"
  }
 },
 "nbformat": 4,
 "nbformat_minor": 5
}

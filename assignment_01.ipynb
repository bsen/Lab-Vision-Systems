{
 "cells": [
  {
   "cell_type": "code",
   "execution_count": 1,
   "id": "f28bc9e7-064f-4d40-8ad5-ee4f9ececa9a",
   "metadata": {},
   "outputs": [],
   "source": [
    "import numpy as np\n",
    "import torchvision\n",
    "import torchvision.transforms as transforms\n",
    "import torch\n",
    "import torch.nn.functional as F\n",
    "from torch.utils.data import DataLoader\n",
    "import matplotlib.pyplot as plt\n",
    "%matplotlib inline"
   ]
  },
  {
   "cell_type": "code",
   "execution_count": 97,
   "id": "060471ff-701d-4e27-9c5c-e516c9a2eabb",
   "metadata": {},
   "outputs": [],
   "source": [
    "t = transforms.Compose([transforms.ToTensor(), \n",
    "                        transforms.Lambda(lambda img: img.squeeze().reshape(784))])\n",
    "\n",
    "t_target = lambda label: F.one_hot(torch.tensor(label), num_classes=10)\n",
    "\n",
    "train_dataset = torchvision.datasets.MNIST(root='./data', train=True, download=True, transform=t, target_transform=t_target)\n",
    "test_dataset = torchvision.datasets.MNIST(root='./data', train=False, download=True, transform=t, target_transform=t_target)"
   ]
  },
  {
   "cell_type": "code",
   "execution_count": 3,
   "id": "0565d50e-8190-40e8-ad40-da17c20a3bd2",
   "metadata": {},
   "outputs": [],
   "source": [
    "train_dataloader = DataLoader(train_dataset, batch_size=20, shuffle=True)\n",
    "test_dataloader = DataLoader(test_dataset, batch_size=20, shuffle=True)"
   ]
  },
  {
   "cell_type": "code",
   "execution_count": 5,
   "id": "fe321461-de04-41b5-b350-bed1c8539d97",
   "metadata": {},
   "outputs": [
    {
     "name": "stdout",
     "output_type": "stream",
     "text": [
      "Images batch shape: torch.Size([20, 784])\n",
      "Labels batch shape: torch.Size([20, 10])\n"
     ]
    },
    {
     "data": {
      "image/png": "[encoded data removed]",
      "text/plain": [
       "<Figure size 432x288 with 1 Axes>"
      ]
     },
     "metadata": {
      "needs_background": "light"
     },
     "output_type": "display_data"
    },
    {
     "name": "stdout",
     "output_type": "stream",
     "text": [
      "Label: tensor([1, 0, 0, 0, 0, 0, 0, 0, 0, 0])\n"
     ]
    }
   ],
   "source": [
    "images, labels = next(iter(train_dataloader))\n",
    "print(f\"Images batch shape: {images.size()}\")\n",
    "print(f\"Labels batch shape: {labels.size()}\")\n",
    "img = images[0].reshape((28, 28))\n",
    "label = labels[0]\n",
    "plt.imshow(img, cmap=\"gray\")\n",
    "plt.show()\n",
    "print(f\"Label: {label}\")"
   ]
  },
  {
   "cell_type": "code",
   "execution_count": 10,
   "id": "fb2212e2-c891-43fd-86af-393b4c102263",
   "metadata": {},
   "outputs": [],
   "source": [
    "def sigmoid(z):\n",
    "    return 1/(1+np.exp(-z))\n",
    "\n",
    "def sigmoid_prime(z):\n",
    "    return sigmoid(z) * (1 - sigmoid(z))\n",
    "\n",
    "def softmax(z):\n",
    "    ez = np.exp(z)\n",
    "    sum_ez = np.sum(ez, axis=0)\n",
    "    return ez / sum_ez\n",
    "\n",
    "def softmax_prime(a, y):\n",
    "    return np.sum((a-y).T * (np.diag(a.squeeze()) - np.multiply(a, a.T)), axis=1, keepdims=True)"
   ]
  },
  {
   "cell_type": "code",
   "execution_count": 11,
   "id": "76cb1695-916e-4648-b06e-a1a98ec12814",
   "metadata": {},
   "outputs": [],
   "source": [
    "def train(lr=0.1, epochs=400, print_every=20):\n",
    "    W1 = np.random.uniform(low=-0.5, high=0.5, size=(64, 784))\n",
    "    b1 = np.random.uniform(low=-0.5, high=0.5, size=(64, 1))\n",
    "    W2 = np.random.uniform(low=-0.5, high=0.5, size=(10, 64))\n",
    "    b2 = np.random.uniform(low=-0.5, high=0.5, size=(10, 1))\n",
    "\n",
    "    costs = []\n",
    "    for epoch_num in range(epochs):\n",
    "        cost = 0\n",
    "        for batch_num, (imgs, labels) in enumerate(train_dataloader):\n",
    "            X, Y = imgs.T.numpy(), labels.T.numpy()\n",
    "            m = X.shape[1]\n",
    "\n",
    "            Z1 = np.dot(W1, X) + b1\n",
    "            A1 = sigmoid(Z1)\n",
    "            Z2 = np.dot(W2, A1) + b2\n",
    "            A2 = softmax(Z2)\n",
    "            \n",
    "            cost += np.sum(np.sum((A2-Y)**2, axis=0)/2)/m\n",
    "\n",
    "            dZ2 = []\n",
    "            for i in range(m):\n",
    "                a = A2[:, i].reshape((-1, 1))\n",
    "                y = Y[:, i].reshape((-1, 1))\n",
    "                dZ2.append(softmax_prime(a, y))\n",
    "            dZ2 = np.hstack(dZ2)\n",
    "\n",
    "            dW2 = 1/m * np.dot(dZ2, A1.T)\n",
    "            db2 = 1/m * np.sum(dZ2, axis=1, keepdims=True)\n",
    "            dZ1 = np.dot(W2.T, dZ2) * sigmoid_prime(Z1)\n",
    "            dW1 = 1/m * np.dot(dZ1, X.T)\n",
    "            db1 = 1/m * np.sum(dZ1, axis=1, keepdims=True)\n",
    "\n",
    "            W1 = W1 - lr*dW1\n",
    "            b1 = b1 - lr*db1\n",
    "            W2 = W2 - lr*dW2\n",
    "            b2 = b2 - lr*db2\n",
    "\n",
    "        costs.append(cost)\n",
    "        if (epoch_num+1) % print_every == 0 or epoch_num == 0:\n",
    "            print(f\"Epoch #{epoch_num+1}, Cost:{cost}\")\n",
    "    \n",
    "    return costs, W1, b1, W2, b2"
   ]
  },
  {
   "cell_type": "code",
   "execution_count": 12,
   "id": "ba9a191c-2bb9-43cf-b2b6-1fc3ae03d2f2",
   "metadata": {},
   "outputs": [
    {
     "name": "stdout",
     "output_type": "stream",
     "text": [
      "Epoch #1, Cost:695.0526451367977\n",
      "Epoch #20, Cost:107.3262424548543\n",
      "Epoch #40, Cost:71.09381891092697\n",
      "Epoch #60, Cost:53.01895804556013\n",
      "Epoch #80, Cost:41.89106517015935\n",
      "Epoch #100, Cost:34.43067223844106\n",
      "Epoch #120, Cost:28.939157734396726\n",
      "Epoch #140, Cost:24.7130594324255\n",
      "Epoch #160, Cost:21.436902696118626\n",
      "Epoch #180, Cost:18.90380808260346\n",
      "Epoch #200, Cost:16.969154651194582\n",
      "Epoch #220, Cost:15.434349220448423\n",
      "Epoch #240, Cost:14.199803867947136\n",
      "Epoch #260, Cost:13.210049527056016\n",
      "Epoch #280, Cost:12.318336233794296\n",
      "Epoch #300, Cost:11.585427653369832\n",
      "Epoch #320, Cost:10.998712036941853\n",
      "Epoch #340, Cost:10.465548225973373\n",
      "Epoch #360, Cost:10.010701281346078\n",
      "Epoch #380, Cost:9.551632022622492\n",
      "Epoch #400, Cost:9.15439051804441\n"
     ]
    }
   ],
   "source": [
    "costs, W1, b1, W2, b2 = train()"
   ]
  },
  {
   "cell_type": "code",
   "execution_count": 13,
   "id": "6b267749-072a-4d2c-842a-9218958676f5",
   "metadata": {},
   "outputs": [],
   "source": [
    "def predict(X, W1, b1, W2, b2):\n",
    "    Z1 = np.dot(W1, X) + b1\n",
    "    A1 = sigmoid(Z1)\n",
    "    Z2 = np.dot(W2, A1) + b2\n",
    "    A2 = softmax(Z2)\n",
    "    return A2"
   ]
  },
  {
   "cell_type": "code",
   "execution_count": 22,
   "id": "e264b91d-480f-467c-be94-ba9e425984e7",
   "metadata": {},
   "outputs": [
    {
     "name": "stdout",
     "output_type": "stream",
     "text": [
      "Test Accuracy 0.9711\n"
     ]
    }
   ],
   "source": [
    "accuracies = []\n",
    "\n",
    "for batch_num, (imgs, labels) in enumerate(test_dataloader):\n",
    "    X, Y = imgs.T.numpy(), labels.T.numpy()\n",
    "    A2 = predict(X, W1, b1, W2, b2)\n",
    "    predicted_labels = A2.argmax(axis=0)\n",
    "    Y = Y.argmax(axis=0)\n",
    "    m = X.shape[1]\n",
    "    accuracy = 1/m * (predicted_labels == Y).sum()\n",
    "    accuracies.append(accuracy)\n",
    "\n",
    "accuracies = np.array(accuracies)\n",
    "print(f'Test Accuracy {accuracies.mean()}')"
   ]
  },
  {
   "cell_type": "code",
   "execution_count": 23,
   "id": "62d119d1-194c-4a23-851d-aa2ef5f506de",
   "metadata": {},
   "outputs": [],
   "source": [
    "import pickle\n",
    "\n",
    "model = {\n",
    "    'W1': W1,\n",
    "    'b1': b1,\n",
    "    'W2': W2,\n",
    "    'b2': b2\n",
    "}\n",
    "\n",
    "with open('model', 'wb') as fout:\n",
    "    pickle.dump(model, fout)"
   ]
  },
  {
   "cell_type": "code",
   "execution_count": 94,
   "id": "61cef4ee-c4f6-47b5-bdf0-25aae04755ae",
   "metadata": {},
   "outputs": [
    {
     "data": {
      "image/png": "[encoded data removed]",
      "text/plain": [
       "<Figure size 432x288 with 1 Axes>"
      ]
     },
     "metadata": {
      "needs_background": "light"
     },
     "output_type": "display_data"
    }
   ],
   "source": [
    "fig, ax = plt.subplots(nrows=1, ncols=1)\n",
    "ax.plot(costs)\n",
    "ax.set_xlabel('Epochs')\n",
    "ax.set_ylabel('Loss')\n",
    "ax.set_title('Training Loss');"
   ]
  },
  {
   "cell_type": "code",
   "execution_count": 91,
   "id": "5f5ff63b-ebaf-46e7-bce4-1925d31d45a4",
   "metadata": {},
   "outputs": [
    {
     "data": {
      "image/png": "[encoded data removed]",
      "text/plain": [
       "<Figure size 432x288 with 1 Axes>"
      ]
     },
     "metadata": {
      "needs_background": "light"
     },
     "output_type": "display_data"
    },
    {
     "name": "stdout",
     "output_type": "stream",
     "text": [
      "Label: 3\n",
      "Predicted label: 3\n"
     ]
    }
   ],
   "source": [
    "test_range_idx = range(len(test_dataset))\n",
    "idx = np.random.choice(test_range_idx)\n",
    "test_img, test_label = test_dataset[idx]\n",
    "test_img = test_img.numpy().reshape(-1, 1)\n",
    "prediction = predict(test_img, W1, b1, W2, b2)\n",
    "plt.imshow(test_img.reshape((28,28)), cmap=\"gray\")\n",
    "plt.show()\n",
    "print(f\"Label: {test_label.argmax()}\")\n",
    "print(f\"Predicted label: {prediction.argmax()}\")"
   ]
  }
 ],
 "metadata": {
  "kernelspec": {
   "display_name": "Python 3",
   "language": "python",
   "name": "python3"
  },
  "language_info": {
   "codemirror_mode": {
    "name": "ipython",
    "version": 3
   },
   "file_extension": ".py",
   "mimetype": "text/x-python",
   "name": "python",
   "nbconvert_exporter": "python",
   "pygments_lexer": "ipython3",
   "version": "3.9.2"
  }
 },
 "nbformat": 4,
 "nbformat_minor": 5
}
